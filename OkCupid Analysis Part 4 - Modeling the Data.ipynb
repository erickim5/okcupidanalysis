{
 "cells": [
  {
   "cell_type": "markdown",
   "metadata": {},
   "source": [
    "# OkCupid Analysis Part 4 - Modeling the Data"
   ]
  },
  {
   "cell_type": "markdown",
   "metadata": {},
   "source": [
    "Our final part of our analysis is focused on modeling the data with the help of Machine Learning. The overall intention here is to be able to predict data to help OkCupid users match more easily. We are going to be focusing on text data. Since we are using text, not numbers, we use classifiers. We have labeled data and are trying to predict categories so we use the Naive Bayes method.\n",
    "\n",
    "Naive Bayes methods are a set of supervised learning algorithms based on applying Bayes’ theorem with the “naive” assumption of independence between every pair of features."
   ]
  },
  {
   "cell_type": "code",
   "execution_count": 1,
   "metadata": {
    "collapsed": true
   },
   "outputs": [],
   "source": [
    "# Packages for Data Analysis and Machine Learning\n",
    "%matplotlib inline\n",
    "import numpy as np\n",
    "import scipy as sp\n",
    "import matplotlib as mpl\n",
    "import matplotlib.cm as cm\n",
    "import matplotlib.pyplot as plt\n",
    "import pandas as pd\n",
    "import seaborn as sns\n",
    "\n",
    "# Setup Pandas\n",
    "pd.set_option('display.width', 500)\n",
    "pd.set_option('display.max_columns', 100)\n",
    "pd.set_option('display.notebook_repr_html', True)\n",
    "\n",
    "# Setup Seaborn\n",
    "sns.set_style(\"whitegrid\")\n",
    "sns.set_context(\"poster\")"
   ]
  },
  {
   "cell_type": "markdown",
   "metadata": {},
   "source": [
    "## OkCupid Dataset"
   ]
  },
  {
   "cell_type": "code",
   "execution_count": 2,
   "metadata": {},
   "outputs": [
    {
     "data": {
      "text/html": [
       "<div>\n",
       "<style>\n",
       "    .dataframe thead tr:only-child th {\n",
       "        text-align: right;\n",
       "    }\n",
       "\n",
       "    .dataframe thead th {\n",
       "        text-align: left;\n",
       "    }\n",
       "\n",
       "    .dataframe tbody tr th {\n",
       "        vertical-align: top;\n",
       "    }\n",
       "</style>\n",
       "<table border=\"1\" class=\"dataframe\">\n",
       "  <thead>\n",
       "    <tr style=\"text-align: right;\">\n",
       "      <th></th>\n",
       "      <th>age</th>\n",
       "      <th>body_type</th>\n",
       "      <th>diet</th>\n",
       "      <th>drinks</th>\n",
       "      <th>drugs</th>\n",
       "      <th>education</th>\n",
       "      <th>essay0</th>\n",
       "      <th>essay1</th>\n",
       "      <th>essay2</th>\n",
       "      <th>essay3</th>\n",
       "      <th>essay4</th>\n",
       "      <th>essay5</th>\n",
       "      <th>essay6</th>\n",
       "      <th>essay7</th>\n",
       "      <th>essay8</th>\n",
       "      <th>essay9</th>\n",
       "      <th>ethnicity</th>\n",
       "      <th>height</th>\n",
       "      <th>income</th>\n",
       "      <th>job</th>\n",
       "      <th>last_online</th>\n",
       "      <th>location</th>\n",
       "      <th>offspring</th>\n",
       "      <th>orientation</th>\n",
       "      <th>pets</th>\n",
       "      <th>religion</th>\n",
       "      <th>sex</th>\n",
       "      <th>sign</th>\n",
       "      <th>smokes</th>\n",
       "      <th>speaks</th>\n",
       "      <th>status</th>\n",
       "    </tr>\n",
       "  </thead>\n",
       "  <tbody>\n",
       "    <tr>\n",
       "      <th>0</th>\n",
       "      <td>22</td>\n",
       "      <td>a little extra</td>\n",
       "      <td>strictly anything</td>\n",
       "      <td>socially</td>\n",
       "      <td>never</td>\n",
       "      <td>working on college/university</td>\n",
       "      <td>about me:    i would love to think that i was ...</td>\n",
       "      <td>currently working as an international agent fo...</td>\n",
       "      <td>making people laugh.  ranting about a good sal...</td>\n",
       "      <td>the way i look. i am a six foot half asian, ha...</td>\n",
       "      <td>books:  absurdistan, the republic, of mice and...</td>\n",
       "      <td>food.  water.  cell phone.  shelter.</td>\n",
       "      <td>duality and humorous things</td>\n",
       "      <td>trying to find someone to hang out with. i am ...</td>\n",
       "      <td>i am new to california and looking for someone...</td>\n",
       "      <td>you want to be swept off your feet!  you are t...</td>\n",
       "      <td>asian, white</td>\n",
       "      <td>75.0</td>\n",
       "      <td>-1.0</td>\n",
       "      <td>transportation</td>\n",
       "      <td>2012-06-28-20-30</td>\n",
       "      <td>south san francisco, california</td>\n",
       "      <td>doesn't have kids, but might want them</td>\n",
       "      <td>straight</td>\n",
       "      <td>likes dogs and likes cats</td>\n",
       "      <td>agnosticism and very serious about it</td>\n",
       "      <td>m</td>\n",
       "      <td>gemini</td>\n",
       "      <td>sometimes</td>\n",
       "      <td>english</td>\n",
       "      <td>single</td>\n",
       "    </tr>\n",
       "    <tr>\n",
       "      <th>1</th>\n",
       "      <td>35</td>\n",
       "      <td>average</td>\n",
       "      <td>mostly other</td>\n",
       "      <td>often</td>\n",
       "      <td>sometimes</td>\n",
       "      <td>working on space camp</td>\n",
       "      <td>i am a chef: this is what that means.  1. i am...</td>\n",
       "      <td>dedicating everyday to being an unbelievable b...</td>\n",
       "      <td>being silly. having ridiculous amonts of fun w...</td>\n",
       "      <td>NaN</td>\n",
       "      <td>i am die hard christopher moore fan. i don't r...</td>\n",
       "      <td>delicious porkness in all of its glories.  my ...</td>\n",
       "      <td>NaN</td>\n",
       "      <td>NaN</td>\n",
       "      <td>i am very open and will share just about anyth...</td>\n",
       "      <td>NaN</td>\n",
       "      <td>white</td>\n",
       "      <td>70.0</td>\n",
       "      <td>NaN</td>\n",
       "      <td>hospitality / travel</td>\n",
       "      <td>2012-06-29-21-41</td>\n",
       "      <td>oakland, california</td>\n",
       "      <td>doesn't have kids, but might want them</td>\n",
       "      <td>straight</td>\n",
       "      <td>likes dogs and likes cats</td>\n",
       "      <td>agnosticism but not too serious about it</td>\n",
       "      <td>m</td>\n",
       "      <td>cancer</td>\n",
       "      <td>no</td>\n",
       "      <td>english (fluently), spanish (poorly), french (...</td>\n",
       "      <td>single</td>\n",
       "    </tr>\n",
       "    <tr>\n",
       "      <th>2</th>\n",
       "      <td>38</td>\n",
       "      <td>thin</td>\n",
       "      <td>anything</td>\n",
       "      <td>socially</td>\n",
       "      <td>NaN</td>\n",
       "      <td>graduated from masters program</td>\n",
       "      <td>i'm not ashamed of much, but writing public te...</td>\n",
       "      <td>i make nerdy software for musicians, artists, ...</td>\n",
       "      <td>improvising in different contexts. alternating...</td>\n",
       "      <td>my large jaw and large glasses are the physica...</td>\n",
       "      <td>okay this is where the cultural matrix gets so...</td>\n",
       "      <td>movement  conversation  creation  contemplatio...</td>\n",
       "      <td>NaN</td>\n",
       "      <td>viewing. listening. dancing. talking. drinking...</td>\n",
       "      <td>when i was five years old, i was known as \"the...</td>\n",
       "      <td>you are bright, open, intense, silly, ironic, ...</td>\n",
       "      <td>NaN</td>\n",
       "      <td>68.0</td>\n",
       "      <td>-1.0</td>\n",
       "      <td>NaN</td>\n",
       "      <td>2012-06-27-09-10</td>\n",
       "      <td>san francisco, california</td>\n",
       "      <td>NaN</td>\n",
       "      <td>straight</td>\n",
       "      <td>has cats</td>\n",
       "      <td>NaN</td>\n",
       "      <td>m</td>\n",
       "      <td>pisces but it doesn&amp;rsquo;t matter</td>\n",
       "      <td>no</td>\n",
       "      <td>english, french, c++</td>\n",
       "      <td>available</td>\n",
       "    </tr>\n",
       "    <tr>\n",
       "      <th>3</th>\n",
       "      <td>23</td>\n",
       "      <td>thin</td>\n",
       "      <td>vegetarian</td>\n",
       "      <td>socially</td>\n",
       "      <td>NaN</td>\n",
       "      <td>working on college/university</td>\n",
       "      <td>i work in a library and go to school. . .</td>\n",
       "      <td>reading things written by old dead people</td>\n",
       "      <td>playing synthesizers and organizing books acco...</td>\n",
       "      <td>socially awkward but i do my best</td>\n",
       "      <td>bataille, celine, beckett. . .  lynch, jarmusc...</td>\n",
       "      <td>NaN</td>\n",
       "      <td>cats and german philosophy</td>\n",
       "      <td>NaN</td>\n",
       "      <td>NaN</td>\n",
       "      <td>you feel so inclined.</td>\n",
       "      <td>white</td>\n",
       "      <td>71.0</td>\n",
       "      <td>20000.0</td>\n",
       "      <td>student</td>\n",
       "      <td>2012-06-28-14-22</td>\n",
       "      <td>berkeley, california</td>\n",
       "      <td>doesn't want kids</td>\n",
       "      <td>straight</td>\n",
       "      <td>likes cats</td>\n",
       "      <td>NaN</td>\n",
       "      <td>m</td>\n",
       "      <td>pisces</td>\n",
       "      <td>no</td>\n",
       "      <td>english, german (poorly)</td>\n",
       "      <td>single</td>\n",
       "    </tr>\n",
       "    <tr>\n",
       "      <th>4</th>\n",
       "      <td>29</td>\n",
       "      <td>athletic</td>\n",
       "      <td>NaN</td>\n",
       "      <td>socially</td>\n",
       "      <td>never</td>\n",
       "      <td>graduated from college/university</td>\n",
       "      <td>hey how's it going? currently vague on the pro...</td>\n",
       "      <td>work work work work + play</td>\n",
       "      <td>creating imagery to look at:  http://bagsbrown...</td>\n",
       "      <td>i smile a lot and my inquisitive nature</td>\n",
       "      <td>music: bands, rappers, musicians  at the momen...</td>\n",
       "      <td>NaN</td>\n",
       "      <td>NaN</td>\n",
       "      <td>NaN</td>\n",
       "      <td>NaN</td>\n",
       "      <td>NaN</td>\n",
       "      <td>asian, black, other</td>\n",
       "      <td>66.0</td>\n",
       "      <td>-1.0</td>\n",
       "      <td>artistic / musical / writer</td>\n",
       "      <td>2012-06-27-21-26</td>\n",
       "      <td>san francisco, california</td>\n",
       "      <td>NaN</td>\n",
       "      <td>straight</td>\n",
       "      <td>likes dogs and likes cats</td>\n",
       "      <td>NaN</td>\n",
       "      <td>m</td>\n",
       "      <td>aquarius</td>\n",
       "      <td>no</td>\n",
       "      <td>english</td>\n",
       "      <td>single</td>\n",
       "    </tr>\n",
       "  </tbody>\n",
       "</table>\n",
       "</div>"
      ],
      "text/plain": [
       "   age       body_type               diet    drinks      drugs                          education                                             essay0                                             essay1                                             essay2                                             essay3                                             essay4                                             essay5                       essay6                                             essay7  \\\n",
       "0   22  a little extra  strictly anything  socially      never      working on college/university  about me:    i would love to think that i was ...  currently working as an international agent fo...  making people laugh.  ranting about a good sal...  the way i look. i am a six foot half asian, ha...  books:  absurdistan, the republic, of mice and...               food.  water.  cell phone.  shelter.  duality and humorous things  trying to find someone to hang out with. i am ...   \n",
       "1   35         average       mostly other     often  sometimes              working on space camp  i am a chef: this is what that means.  1. i am...  dedicating everyday to being an unbelievable b...  being silly. having ridiculous amonts of fun w...                                                NaN  i am die hard christopher moore fan. i don't r...  delicious porkness in all of its glories.  my ...                          NaN                                                NaN   \n",
       "2   38            thin           anything  socially        NaN     graduated from masters program  i'm not ashamed of much, but writing public te...  i make nerdy software for musicians, artists, ...  improvising in different contexts. alternating...  my large jaw and large glasses are the physica...  okay this is where the cultural matrix gets so...  movement  conversation  creation  contemplatio...                          NaN  viewing. listening. dancing. talking. drinking...   \n",
       "3   23            thin         vegetarian  socially        NaN      working on college/university          i work in a library and go to school. . .          reading things written by old dead people  playing synthesizers and organizing books acco...                  socially awkward but i do my best  bataille, celine, beckett. . .  lynch, jarmusc...                                                NaN   cats and german philosophy                                                NaN   \n",
       "4   29        athletic                NaN  socially      never  graduated from college/university  hey how's it going? currently vague on the pro...                         work work work work + play  creating imagery to look at:  http://bagsbrown...            i smile a lot and my inquisitive nature  music: bands, rappers, musicians  at the momen...                                                NaN                          NaN                                                NaN   \n",
       "\n",
       "                                              essay8                                             essay9            ethnicity  height   income                          job       last_online                         location                               offspring orientation                       pets                                  religion sex                                sign     smokes                                             speaks     status  \n",
       "0  i am new to california and looking for someone...  you want to be swept off your feet!  you are t...         asian, white    75.0     -1.0               transportation  2012-06-28-20-30  south san francisco, california  doesn't have kids, but might want them    straight  likes dogs and likes cats     agnosticism and very serious about it   m                              gemini  sometimes                                            english     single  \n",
       "1  i am very open and will share just about anyth...                                                NaN                white    70.0      NaN         hospitality / travel  2012-06-29-21-41              oakland, california  doesn't have kids, but might want them    straight  likes dogs and likes cats  agnosticism but not too serious about it   m                              cancer         no  english (fluently), spanish (poorly), french (...     single  \n",
       "2  when i was five years old, i was known as \"the...  you are bright, open, intense, silly, ironic, ...                  NaN    68.0     -1.0                          NaN  2012-06-27-09-10        san francisco, california                                     NaN    straight                   has cats                                       NaN   m  pisces but it doesn&rsquo;t matter         no                               english, french, c++  available  \n",
       "3                                                NaN                              you feel so inclined.                white    71.0  20000.0                      student  2012-06-28-14-22             berkeley, california                       doesn't want kids    straight                 likes cats                                       NaN   m                              pisces         no                           english, german (poorly)     single  \n",
       "4                                                NaN                                                NaN  asian, black, other    66.0     -1.0  artistic / musical / writer  2012-06-27-21-26        san francisco, california                                     NaN    straight  likes dogs and likes cats                                       NaN   m                            aquarius         no                                            english     single  "
      ]
     },
     "execution_count": 2,
     "metadata": {},
     "output_type": "execute_result"
    }
   ],
   "source": [
    "# Load .csv into dataframe for use \n",
    "df = pd.read_csv('new_df.csv')\n",
    "df = df.drop('Unnamed: 0', 1)\n",
    "df.head()"
   ]
  },
  {
   "cell_type": "markdown",
   "metadata": {},
   "source": [
    "### Exploring data"
   ]
  },
  {
   "cell_type": "markdown",
   "metadata": {},
   "source": [
    "Here, we check on different categories for potential helpfulness in predicting OkCupid users. We have several variables at our disposal. One thing that we could do is combine categories for clustering. However, we have the most data in the number of essays.  With over half a million essays, it could very well be enough of a sample size to predict another category. Something very simple that we can do is predict gender. However, we could predict education, income, or just about any other category with the same algoritims to be used in this notebook.\n",
    "\n",
    "The reason why we use gender to predict first is because it has the least missing data. It is also very difficult to lie about your gender compared to all other variables."
   ]
  },
  {
   "cell_type": "code",
   "execution_count": 3,
   "metadata": {},
   "outputs": [
    {
     "name": "stdout",
     "output_type": "stream",
     "text": [
      "Number of male users: 35829\n",
      "Number of essays: 599460\n",
      "Number of female users: 24117\n",
      "Number of body types: 13\n",
      "Number of drinking types: 7\n",
      "Number of drug types: 4\n",
      "Number of ethnicity combinations: 218\n",
      "Number of income levels: 14\n",
      "Number of orientation types: 3\n"
     ]
    }
   ],
   "source": [
    "# Exploring possible variables for Machine Learning\n",
    "n_men = len(df[df.sex == 'm'])\n",
    "n_women = len(df[df.sex == 'f'])\n",
    "n_essays = (df.loc[:,'essay0':'essay9']).size\n",
    "n_body = df.body_type.unique().size\n",
    "n_drink = df.drinks.unique().size\n",
    "n_drug = df.drugs.unique().size\n",
    "n_education = df.education.unique().size\n",
    "n_ethnicity = df.ethnicity.unique().size\n",
    "n_income = df.income.unique().size\n",
    "n_orientation = df.orientation.unique().size\n",
    "\n",
    "print(\"Number of male users: {:d}\".format(n_men))\n",
    "print(\"Number of essays: {:d}\".format(n_essays))\n",
    "print(\"Number of female users: {:d}\".format(n_women))\n",
    "print(\"Number of body types: {:d}\".format(n_body))\n",
    "print(\"Number of drinking types: {:d}\".format(n_drink))\n",
    "print(\"Number of drug types: {:d}\".format(n_drug))\n",
    "print(\"Number of ethnicity combinations: {:d}\".format(n_ethnicity))\n",
    "print(\"Number of income levels: {:d}\".format(n_income))\n",
    "print(\"Number of orientation types: {:d}\".format(n_orientation))\n"
   ]
  },
  {
   "cell_type": "code",
   "execution_count": 4,
   "metadata": {
    "collapsed": true
   },
   "outputs": [],
   "source": [
    "# Combining all 10 essays to a single column for each user\n",
    "# Also fixing missing essays to blank values\n",
    "df['all_essays'] = ''\n",
    "essay_names = df.loc[:,'essay0':'essay9']\n",
    "for essay_name in essay_names:\n",
    "    df[essay_name] = df[essay_name].replace(np.nan, ' ')\n",
    "    df['all_essays'] = df[essay_name] + ' ' + df['all_essays']"
   ]
  },
  {
   "cell_type": "code",
   "execution_count": 5,
   "metadata": {},
   "outputs": [
    {
     "data": {
      "text/html": [
       "<div>\n",
       "<style>\n",
       "    .dataframe thead tr:only-child th {\n",
       "        text-align: right;\n",
       "    }\n",
       "\n",
       "    .dataframe thead th {\n",
       "        text-align: left;\n",
       "    }\n",
       "\n",
       "    .dataframe tbody tr th {\n",
       "        vertical-align: top;\n",
       "    }\n",
       "</style>\n",
       "<table border=\"1\" class=\"dataframe\">\n",
       "  <thead>\n",
       "    <tr style=\"text-align: right;\">\n",
       "      <th></th>\n",
       "      <th>all_essays</th>\n",
       "      <th>sex</th>\n",
       "    </tr>\n",
       "  </thead>\n",
       "  <tbody>\n",
       "    <tr>\n",
       "      <th>0</th>\n",
       "      <td>you want to be swept off your feet!  you are t...</td>\n",
       "      <td>m</td>\n",
       "    </tr>\n",
       "    <tr>\n",
       "      <th>1</th>\n",
       "      <td>i am very open and will share just about any...</td>\n",
       "      <td>m</td>\n",
       "    </tr>\n",
       "    <tr>\n",
       "      <th>2</th>\n",
       "      <td>you are bright, open, intense, silly, ironic, ...</td>\n",
       "      <td>m</td>\n",
       "    </tr>\n",
       "    <tr>\n",
       "      <th>3</th>\n",
       "      <td>you feel so inclined.     cats and german phil...</td>\n",
       "      <td>m</td>\n",
       "    </tr>\n",
       "    <tr>\n",
       "      <th>4</th>\n",
       "      <td>music: bands, rappers, musicians  at...</td>\n",
       "      <td>m</td>\n",
       "    </tr>\n",
       "    <tr>\n",
       "      <th>5</th>\n",
       "      <td>you're awesome. i cried on my first day at sch...</td>\n",
       "      <td>m</td>\n",
       "    </tr>\n",
       "    <tr>\n",
       "      <th>6</th>\n",
       "      <td>my typical friday night plotting to take ove...</td>\n",
       "      <td>f</td>\n",
       "    </tr>\n",
       "    <tr>\n",
       "      <th>7</th>\n",
       "      <td>out and about or relaxing at home with a g...</td>\n",
       "      <td>f</td>\n",
       "    </tr>\n",
       "    <tr>\n",
       "      <th>8</th>\n",
       "      <td>http://www.youtube.com/watch?v=4dxbwzuwsxk let...</td>\n",
       "      <td>f</td>\n",
       "    </tr>\n",
       "    <tr>\n",
       "      <th>9</th>\n",
       "      <td>you can rock the bells &lt;em&gt;&lt;strong&gt;and say hi....</td>\n",
       "      <td>m</td>\n",
       "    </tr>\n",
       "    <tr>\n",
       "      <th>10</th>\n",
       "      <td>you are a complex woman with healthy self-este...</td>\n",
       "      <td>m</td>\n",
       "    </tr>\n",
       "    <tr>\n",
       "      <th>11</th>\n",
       "      <td>if you know who you are, who you want, where y...</td>\n",
       "      <td>m</td>\n",
       "    </tr>\n",
       "    <tr>\n",
       "      <th>12</th>\n",
       "      <td>bang my shit bang</td>\n",
       "      <td>m</td>\n",
       "    </tr>\n",
       "    <tr>\n",
       "      <th>13</th>\n",
       "      <td></td>\n",
       "      <td>f</td>\n",
       "    </tr>\n",
       "    <tr>\n",
       "      <th>14</th>\n",
       "      <td>...you genuinely think we'd be a good match. h...</td>\n",
       "      <td>f</td>\n",
       "    </tr>\n",
       "  </tbody>\n",
       "</table>\n",
       "</div>"
      ],
      "text/plain": [
       "                                           all_essays sex\n",
       "0   you want to be swept off your feet!  you are t...   m\n",
       "1     i am very open and will share just about any...   m\n",
       "2   you are bright, open, intense, silly, ironic, ...   m\n",
       "3   you feel so inclined.     cats and german phil...   m\n",
       "4             music: bands, rappers, musicians  at...   m\n",
       "5   you're awesome. i cried on my first day at sch...   m\n",
       "6     my typical friday night plotting to take ove...   f\n",
       "7       out and about or relaxing at home with a g...   f\n",
       "8   http://www.youtube.com/watch?v=4dxbwzuwsxk let...   f\n",
       "9   you can rock the bells <em><strong>and say hi....   m\n",
       "10  you are a complex woman with healthy self-este...   m\n",
       "11  if you know who you are, who you want, where y...   m\n",
       "12                                 bang my shit bang    m\n",
       "13                                                      f\n",
       "14  ...you genuinely think we'd be a good match. h...   f"
      ]
     },
     "execution_count": 5,
     "metadata": {},
     "output_type": "execute_result"
    }
   ],
   "source": [
    "# Dataframe for essay to gender predictor\n",
    "# Could reproduce to include other variables\n",
    "essay_sex = df[['all_essays', 'sex']]\n",
    "essay_sex.head(15)"
   ]
  },
  {
   "cell_type": "code",
   "execution_count": 6,
   "metadata": {
    "collapsed": true,
    "scrolled": true
   },
   "outputs": [],
   "source": [
    "# Converting essays into a vector space model\n",
    "from sklearn.feature_extraction.text import CountVectorizer\n",
    "\n",
    "def make_xy(essay_sex, vectorizer=None):\n",
    "    #Your code here    \n",
    "    if vectorizer is None:\n",
    "        vectorizer = CountVectorizer()\n",
    "    X = vectorizer.fit_transform(essay_sex.all_essays)\n",
    "    X = X.tocsc()  # some versions of sklearn return COO format\n",
    "    y = (essay_sex.sex == 'm').values.astype(np.int)\n",
    "    return X, y\n",
    "X, y = make_xy(essay_sex)"
   ]
  },
  {
   "cell_type": "markdown",
   "metadata": {},
   "source": [
    "We use MultinomialNB with the naive Bayes algorithm for multinomially distributed data. It is also one of the two classic naive Bayes variants used in text classification."
   ]
  },
  {
   "cell_type": "code",
   "execution_count": 7,
   "metadata": {},
   "outputs": [
    {
     "name": "stdout",
     "output_type": "stream",
     "text": [
      "MN Accuracy: 72.74%\n"
     ]
    }
   ],
   "source": [
    "from sklearn.naive_bayes import MultinomialNB\n",
    "from sklearn.model_selection import train_test_split\n",
    "xtrain, xtest, ytrain, ytest = train_test_split(X, y)\n",
    "clf = MultinomialNB().fit(xtrain, ytrain)\n",
    "print(\"MN Accuracy: %0.2f%%\" % (100 * clf.score(xtest, ytest)))"
   ]
  },
  {
   "cell_type": "code",
   "execution_count": 8,
   "metadata": {},
   "outputs": [
    {
     "name": "stdout",
     "output_type": "stream",
     "text": [
      "Accuracy on training data: 0.79\n",
      "Accuracy on test data:     0.73\n"
     ]
    }
   ],
   "source": [
    "training_accuracy = clf.score(xtrain, ytrain)\n",
    "test_accuracy = clf.score(xtest, ytest)\n",
    "\n",
    "print(\"Accuracy on training data: %0.2f\" % (training_accuracy))\n",
    "print(\"Accuracy on test data:     %0.2f\" % (test_accuracy))"
   ]
  },
  {
   "cell_type": "code",
   "execution_count": 9,
   "metadata": {},
   "outputs": [
    {
     "name": "stdout",
     "output_type": "stream",
     "text": [
      "[[4959 1130]\n",
      " [2955 5943]]\n"
     ]
    }
   ],
   "source": [
    "from sklearn.metrics import confusion_matrix\n",
    "print(confusion_matrix(ytest, clf.predict(xtest)))"
   ]
  },
  {
   "cell_type": "markdown",
   "metadata": {},
   "source": [
    "In K-fold cross-validation, we divide the data into $K$ non-overlapping parts. We train on $K-1$ of the folds and test on the remaining fold. We then iterate, so that each fold serves as the test fold exactly once. The function cv_score performs the K-fold cross-validation algorithm for us, but we need to pass a function that measures the performance of the algorithm on each fold."
   ]
  },
  {
   "cell_type": "code",
   "execution_count": 10,
   "metadata": {
    "collapsed": true
   },
   "outputs": [],
   "source": [
    "from sklearn.model_selection import KFold\n",
    "def cv_score(clf, X, y, scorefunc):\n",
    "    result = 0.\n",
    "    nfold = 5\n",
    "    for train, test in KFold(nfold).split(X): # split data into train/test groups, 5 times\n",
    "        clf.fit(X[train], y[train]) # fit the classifier, passed is as clf.\n",
    "        result += scorefunc(clf, X[test], y[test]) # evaluate score function on held-out data\n",
    "    return result / nfold # average"
   ]
  },
  {
   "cell_type": "markdown",
   "metadata": {},
   "source": [
    "We use the log-likelihood as the score here in scorefunc. The higher the log-likelihood, the better. Indeed, what we do in cv_score above is to implement the cross-validation part of GridSearchCV.\n",
    "The custom scoring function scorefunc allows us to use different metrics depending on the decision risk we care about (precision, accuracy, profit etc.) directly on the validation set. You will often find people using roc_auc, precision, recall, or F1-score as the scoring function."
   ]
  },
  {
   "cell_type": "code",
   "execution_count": 11,
   "metadata": {
    "collapsed": true
   },
   "outputs": [],
   "source": [
    "def log_likelihood(clf, x, y):\n",
    "    prob = clf.predict_log_proba(x)\n",
    "    female = y == 0\n",
    "    male = ~female\n",
    "    return prob[female, 0].sum() + prob[male, 1].sum()"
   ]
  },
  {
   "cell_type": "markdown",
   "metadata": {},
   "source": [
    "We'll cross-validate over the regularization parameter $\\alpha$.\n",
    "Let's set up the train and test masks first, and then we can run the cross-validation procedure."
   ]
  },
  {
   "cell_type": "code",
   "execution_count": 12,
   "metadata": {
    "collapsed": true
   },
   "outputs": [],
   "source": [
    "from sklearn.model_selection import train_test_split\n",
    "_, itest = train_test_split(range(essay_sex.shape[0]), train_size=0.7)\n",
    "mask = np.zeros(essay_sex.shape[0], dtype=np.bool)\n",
    "mask[itest] = True"
   ]
  },
  {
   "cell_type": "markdown",
   "metadata": {},
   "source": [
    "The log_likelihood function seems to be scoring x by the sums of the log probabilities of getting a 'female' rating and getting a 'male' rating. We are trying to optimize for the greatest log likelihood.\n",
    "If we choose a value of $\\alpha$ that is too high, then we lose too much information and the model will be too general. Only words with the highest occurances will be captured."
   ]
  },
  {
   "cell_type": "code",
   "execution_count": 13,
   "metadata": {},
   "outputs": [],
   "source": [
    "#the grid of parameters to search over\n",
    "alphas = [.1, 1, 5, 10, 50]\n",
    "min_dfs = [1e-5, 1e-4, 1e-3, 1e-2]\n",
    "\n",
    "#Find the best value for alpha and min_df, and the best classifier\n",
    "best_alpha = None\n",
    "best_min_df = None\n",
    "maxscore=-np.inf\n",
    "for alpha in alphas:\n",
    "    for min_df in min_dfs:         \n",
    "        vectorizer = CountVectorizer(min_df = min_df)       \n",
    "        Xthis, ythis = make_xy(essay_sex, vectorizer)\n",
    "        Xtrainthis=Xthis[mask]\n",
    "        ytrainthis=ythis[mask]\n",
    "        #your code here\n",
    "        clf = MultinomialNB(alpha=alpha)\n",
    "        cvscore = cv_score(clf, Xtrainthis, ytrainthis, log_likelihood)\n",
    "\n",
    "        if cvscore > maxscore:\n",
    "            maxscore = cvscore\n",
    "            best_alpha, best_min_df = alpha, min_df"
   ]
  },
  {
   "cell_type": "code",
   "execution_count": 14,
   "metadata": {},
   "outputs": [
    {
     "name": "stdout",
     "output_type": "stream",
     "text": [
      "alpha: 5.00\n",
      "min_df: 0.0001\n"
     ]
    }
   ],
   "source": [
    "print('alpha: {:.2f}'.format(best_alpha))\n",
    "print('min_df: {}'.format(best_min_df))"
   ]
  },
  {
   "cell_type": "code",
   "execution_count": 15,
   "metadata": {},
   "outputs": [
    {
     "name": "stdout",
     "output_type": "stream",
     "text": [
      "Accuracy on training data: 0.81\n",
      "Accuracy on test data:     0.75\n"
     ]
    }
   ],
   "source": [
    "vectorizer = CountVectorizer(min_df=best_min_df)\n",
    "X, y = make_xy(essay_sex, vectorizer)\n",
    "xtrain=X[mask]\n",
    "ytrain=y[mask]\n",
    "xtest=X[~mask]\n",
    "ytest=y[~mask]\n",
    "\n",
    "clf = MultinomialNB(alpha=best_alpha).fit(xtrain, ytrain)\n",
    "\n",
    "training_accuracy = clf.score(xtrain, ytrain)\n",
    "test_accuracy = clf.score(xtest, ytest)\n",
    "\n",
    "print(\"Accuracy on training data: %0.2f\" % (training_accuracy))\n",
    "print(\"Accuracy on test data:     %0.2f\" % (test_accuracy))"
   ]
  },
  {
   "cell_type": "markdown",
   "metadata": {},
   "source": [
    "With our result above, although our new accuracy is better and isn't as overfit as our previous training/test data. This is a good thing, it makes our predictions more accurate."
   ]
  },
  {
   "cell_type": "markdown",
   "metadata": {},
   "source": [
    "## Interpretation"
   ]
  },
  {
   "cell_type": "markdown",
   "metadata": {},
   "source": [
    "### What are the strongly predictive features?\n",
    "We use a neat trick to identify strongly predictive features (i.e. words).\n",
    "first, we create a data set such that each row has exactly one feature. This is represented by the identity matrix.\n",
    "use the trained classifier to make predictions on this matrix\n",
    "sort the rows by predicted probabilities, and pick the top and bottom $K$ rows"
   ]
  },
  {
   "cell_type": "code",
   "execution_count": 16,
   "metadata": {},
   "outputs": [
    {
     "name": "stdout",
     "output_type": "stream",
     "text": [
      "Men words\t           P(Men word | word)\n",
      "                nbsp 0.93\n",
      "                 sup 0.93\n",
      "          programmer 0.91\n",
      "       skateboarding 0.91\n",
      "           computers 0.90\n",
      "            blahblah 0.89\n",
      "              badger 0.89\n",
      "            mechanic 0.88\n",
      "         engineering 0.87\n",
      "                disc 0.87\n",
      "Women words\t        P(Men word | word)\n",
      "               heels 0.19\n",
      "                aunt 0.19\n",
      "                 pjs 0.18\n",
      "             trapeze 0.17\n",
      "            knitting 0.17\n",
      "               girly 0.17\n",
      "               zumba 0.17\n",
      "              tomboy 0.16\n",
      "            lipstick 0.16\n",
      "               gloss 0.13\n"
     ]
    }
   ],
   "source": [
    "# Getting list of words that predict gender\n",
    "words = np.array(vectorizer.get_feature_names())\n",
    "\n",
    "x = np.eye(xtest.shape[1])\n",
    "probs = clf.predict_log_proba(x)[:, 0]\n",
    "ind = np.argsort(probs)\n",
    "\n",
    "men_words = words[ind[:10]]\n",
    "women_words = words[ind[-10:]]\n",
    "\n",
    "men_prob = probs[ind[:10]]\n",
    "women_prob = probs[ind[-10:]]\n",
    "\n",
    "print(\"Men words\\t           P(Men word | word)\")\n",
    "for w, p in zip(men_words, men_prob):\n",
    "    print(\"{:>20}\".format(w), \"{:.2f}\".format(1 - np.exp(p)))\n",
    "    \n",
    "print(\"Women words\\t        P(Men word | word)\")\n",
    "for w, p in zip(women_words, women_prob):\n",
    "    print(\"{:>20}\".format(w), \"{:.2f}\".format(1 - np.exp(p)))"
   ]
  },
  {
   "cell_type": "markdown",
   "metadata": {},
   "source": [
    "### Misinterpretations"
   ]
  },
  {
   "cell_type": "markdown",
   "metadata": {},
   "source": [
    "Our model isn't perfect. It can't always predict genders accurately. Some simple variables that could influence essays are variables like orientation and education. Here we explore the mis-predicted quotes."
   ]
  },
  {
   "cell_type": "code",
   "execution_count": 17,
   "metadata": {
    "collapsed": true
   },
   "outputs": [],
   "source": [
    "x, y = make_xy(essay_sex, vectorizer)\n",
    "\n",
    "prob = clf.predict_proba(x)[:, 0]\n",
    "predict = clf.predict(x)\n",
    "\n",
    "bad_women = np.argsort(prob[y == 0])[:3]\n",
    "bad_men = np.argsort(prob[y == 1])[-3:]"
   ]
  },
  {
   "cell_type": "markdown",
   "metadata": {},
   "source": [
    "It seems that the simple reason to a mis-prediction for a female is too much html code formatting. Things like adding hyperlinks and formatting could throw off the algoritim. Also, using crude language is a case as well. See below for an example."
   ]
  },
  {
   "cell_type": "code",
   "execution_count": 18,
   "metadata": {},
   "outputs": [
    {
     "name": "stdout",
     "output_type": "stream",
     "text": [
      "Mis-predicted Women quotes\n",
      "---------------------------\n",
      "you want to chat or get to know me, have similar interests. i like guys who are responsible, fun/silly, ambitious, have a job (or are in school), and i prefer that they don't smoke. i like when they are caring, smart, have (some) manners (haha), is ambitious, kind, honest, near to my age, don't live too far, and it's nice if they like to work out a few times a week. i need more friends that live nearby! either home watching tv or a movie, doing homework,  out with a friend/friends, or  online... what i want to \"do with my life\", career/going back to school  worrying :)  homework/studying  forcing myself to go to the gym...haha  guys  music  movies  tv  family  friends my family  my friends  food  music  movies/tv  my contacts/glasses books: <a class=\"ilink\" href=\"/interests?i=harry+potter\">harry potter</a> series, <a class=\"ilink\" href= \"/interests?i=the+time+traveller%27s+wife\">the time traveller's wife</a> , <a class=\"ilink\" href= \"/interests?i=the+vampire+chronicles\">the vampire chronicles</a>, <a class=\"ilink\" href=\"/interests?i=angels+%26amp%3b+demons\">angels &amp; demons</a>, <a class=\"ilink\" href= \"/interests?i=1984\">1984</a>, <a class=\"ilink\" href= \"/interests?i=chuck+palahniuk\">chuck palahniuk</a> books, <a class= \"ilink\" href=\"/interests?i=nicholas+sparks\">nicholas sparks</a> books, <a class=\"ilink\" href=\"/interests?i=steven%0aking\">steven king</a> books, <a class=\"ilink\" href= \"/interests?i=the+ultimate+hitchhiker%27s+guide+to+the+galaxy\">the ultimate hitchhiker's guide to the galaxy</a>, <a class=\"ilink\" href=\"/interests?i=colleen+mccoullough\">colleen mccoullough</a> books (esp. <a class=\"ilink\" href= \"/interests?i=the+thorn+birds\">the thorn birds</a>), <a class= \"ilink\" href=\"/interests?i=james%0afrey\">james frey</a> books, and more....    music: <a class=\"ilink\" href=\"/interests?i=rock\">rock</a>, <a class=\"ilink\" href=\"/interests?i=punk\">punk</a>, <a class= \"ilink\" href=\"/interests?i=country\">country</a>, <a class=\"ilink\" href=\"/interests?i=showtunes\">showtunes</a> &amp; <a class=\"ilink\" href=\"/interests?i=movie%0amusicals\">movie musicals</a>, <a class= \"ilink\" href=\"/interests?i=80%27s\">80's</a> &amp; <a class=\"ilink\" href=\"/interests?i=90%27s\">90's</a>, some older <a class=\"ilink\" href=\"/interests?i=rap\">rap</a>    food: <a class=\"ilink\" href=\"/interests?i=italian\">italian</a>, <a class=\"ilink\" href=\"/interests?i=japanese\">japanese</a> - especially <a class=\"ilink\" href=\"/interests?i=sushi\">sushi</a>, <a class=\"ilink\" href=\"/interests?i=chinese\">chinese</a>, <a class= \"ilink\" href=\"/interests?i=thai\">thai</a>, <a class=\"ilink\" href= \"/interests?i=mexican\">mexican</a>, <a class=\"ilink\" href= \"/interests?i=mediterranean\">mediterranean</a>, <a class=\"ilink\" href=\"/interests?i=soda\">soda</a>, <a class=\"ilink\" href= \"/interests?i=candy\">candy</a>, <a class=\"ilink\" href= \"/interests?i=fast+food\">fast food</a>, <a class=\"ilink\" href= \"/interests?i=tito%27s+tacos\">tito's tacos</a> in culver city, <a class=\"ilink\" href=\"/interests?i=jamba%0ajuice\">jamba juice</a>, <a class=\"ilink\" href=\"/interests?i=starbucks\">starbucks</a>... i will try pretty much anything once, and i have a major sweet tooth...um, i just love food!    tv: <a class=\"ilink\" href=\"/interests?i=mtv\">mtv</a>, <a class= \"ilink\" href=\"/interests?i=vh1\">vh1</a>, <a class=\"ilink\" href= \"/interests?i=cmt\">cmt</a>, <a class=\"ilink\" href= \"/interests?i=lost\">lost</a>, <a class=\"ilink\" href= \"/interests?i=american+idol\">american idol</a>, <a class=\"ilink\" href=\"/interests?i=friends\">friends</a>, <a class=\"ilink\" href= \"/interests?i=family+guy\">family guy</a>, <a class=\"ilink\" href= \"/interests?i=jackass\">jackass</a>, <a class=\"ilink\" href= \"/interests?i=seinfeld\">seinfeld</a>, <a class=\"ilink\" href= \"/interests?i=america%27s%0anext+top+model\">america's next top model</a>, <a class=\"ilink\" href= \"/interests?i=hell%27s+kitchen\">hell's kitchen</a>, <a class= \"ilink\" href=\"/interests?i=kitchen+nightmares\">kitchen nightmares</a>, <a class=\"ilink\" href= \"/interests?i=90210\">90210</a>, <a class=\"ilink\" href= \"/interests?i=masterchef\">masterchef</a>, <a class=\"ilink\" href= \"/interests?i=true+life\">true life</a>, <a class=\"ilink\" href= \"/interests?i=teen+mom\">teen mom</a>, <a class=\"ilink\" href= \"/interests?i=snl\">snl</a>, <a class=\"ilink\" href= \"/interests?i=16+and+pregnant\">16 and pregnant</a>, <a class= \"ilink\" href=\"/interests?i=walking+dead\">walking dead</a>, <a class=\"ilink\" href=\"/interests?i=the+voice\">the voice</a>, <a class=\"ilink\" href=\"/interests?i=x-factor\">x-factor</a>, <a class=\"ilink\" href=\"/interests?i=my+strange+addiction\">my strange addiction</a>, <a class=\"ilink\" href= \"/interests?i=parks+and+rec\">parks and rec</a>, <a class=\"ilink\" href=\"/interests?i=30+rock\">30 rock</a>, <a class=\"ilink\" href= \"/interests?i=new%0agirl\">new girl</a>, <a class=\"ilink\" href= \"/interests?i=jersey+shore\">jersey shore</a>, <a class=\"ilink\" href=\"/interests?i=biography\">biography</a>, <a class=\"ilink\" href= \"/interests?i=robot+chicken\">robot chicken</a>, <a class=\"ilink\" href=\"/interests?i=glee\">glee</a>...    movies: i like <a class=\"ilink\" href= \"/interests?i=action\">action</a>, <a class=\"ilink\" href= \"/interests?i=horror\">horror</a> (i love <a class=\"ilink\" href= \"/interests?i=gore\">gore</a> haha), <a class=\"ilink\" href= \"/interests?i=comedy\">comedy</a>, <a class=\"ilink\" href= \"/interests?i=animation\">animation</a>, <a class=\"ilink\" href= \"/interests?i=musicals\">musicals</a>  for example:  <a class=\"ilink\" href= \"/interests?i=rocky+horror+picture+show\">rocky horror picture show</a>, <a class=\"ilink\" href= \"/interests?i=nightmare+before+christmas\">nightmare before christmas</a>, <a class=\"ilink\" href= \"/interests?i=pirates+of+the+caribbean\">pirates of the caribbean</a>, <a class=\"ilink\" href= \"/interests?i=robin+hood+men+in+tights\">robin hood men in tights</a>, <a class=\"ilink\" href=\"/interests?i=rat%0arace\">rat race</a>, <a class=\"ilink\" href=\"/interests?i=dirty+dancing\">dirty dancing</a>, <a class=\"ilink\" href= \"/interests?i=emperor%27s+new+groove\">emperor's new groove</a>, <a class=\"ilink\" href= \"/interests?i=saturday%0anight+fever\">saturday night fever</a>, <a class=\"ilink\" href=\"/interests?i=edward+scissorhands\">edward scissorhands</a>, <a class=\"ilink\" href= \"/interests?i=west+side+story\">west side story</a>, <a class= \"ilink\" href=\"/interests?i=princess+bride\">princess bride</a>, <a class=\"ilink\" href=\"/interests?i=napoleon+dynamite\">napoleon dynamite</a>, <a class=\"ilink\" href= \"/interests?i=chipmunk+adventure\">chipmunk adventure</a>, <a class= \"ilink\" href=\"/interests?i=south+park\">south park</a>, <a class= \"ilink\" href=\"/interests?i=bubble+boy\">bubble boy</a>, <a class= \"ilink\" href=\"/interests?i=grease+1+%26amp%3b+2\">grease 1 &amp; 2</a>, <a class=\"ilink\" href= \"/interests?i=wallace%0a%26amp%3b+gromit\">wallace &amp; gromit</a>, <a class=\"ilink\" href=\"/interests?i=kingpin\">kingpin</a>, <a class= \"ilink\" href=\"/interests?i=titanic\">titanic</a>, <a class=\"ilink\" href=\"/interests?i=the+green+mile\">the green mile</a>, <a class= \"ilink\" href=\"/interests?i=the%0abirdcage\">the birdcage</a>, <a class=\"ilink\" href=\"/interests?i=pretty+woman\">pretty woman</a>, <a class=\"ilink\" href=\"/interests?i=forrest+gump\">forrest gump</a>, <a class=\"ilink\" href=\"/interests?i=office+space\">office space</a>, <a class=\"ilink\" href=\"/interests?i=dumb+%26amp%3b+dumber\">dumb &amp; dumber</a>, <a class=\"ilink\" href= \"/interests?i=calamity+jane\">calamity jane</a>, <a class=\"ilink\" href=\"/interests?i=splash\">splash</a>, <a class=\"ilink\" href= \"/interests?i=dude%0awhere%27s+my+car%3f\">dude where's my car?</a>, <a class=\"ilink\" href=\"/interests?i=the+neverending+story\">the neverending story</a>, <a class=\"ilink\" href= \"/interests?i=what%27s+eating%0agilbert+grape%3f\">what's eating gilbert grape?</a>, <a class=\"ilink\" href= \"/interests?i=zoolander\">zoolander</a>, <a class=\"ilink\" href= \"/interests?i=one+flew+over+the+cuckoo%27s%0anest\">one flew over the cuckoo's nest</a>, <a class=\"ilink\" href= \"/interests?i=untamed+heart\">untamed heart</a>, <a class=\"ilink\" href=\"/interests?i=mallrats\">mallrats</a>, <a class=\"ilink\" href= \"/interests?i=awakenings\">awakenings</a>, <a class=\"ilink\" href= \"/interests?i=monty%0apython+and+the+holy+grail\">monty python and the holy grail</a>, <a class=\"ilink\" href= \"/interests?i=in+%26amp%3b+out\">in &amp; out</a>, <a class=\"ilink\" href=\"/interests?i=kindergarten%0acop\">kindergarten cop</a>, <a class=\"ilink\" href=\"/interests?i=the+sound+of+music\">the sound of music</a>, <a class=\"ilink\" href=\"/interests?i=evita\">evita</a>, <a class=\"ilink\" href=\"/interests?i=wayne%27s+world\">wayne's world</a>, <a class=\"ilink\" href= \"/interests?i=footloose\">footloose</a>, <a class=\"ilink\" href= \"/interests?i=flashdance\">flashdance</a>, <a class=\"ilink\" href= \"/interests?i=groundhog+day\">groundhog day</a>, <a class=\"ilink\" href=\"/interests?i=my+fair+lady\">my fair lady</a>, <a class=\"ilink\" href=\"/interests?i=willy+wonka\">willy wonka</a> (original), <a class=\"ilink\" href=\"/interests?i=honey+i+shrunk+the+kids\">honey i shrunk the kids</a>, <a class=\"ilink\" href= \"/interests?i=waterboy\">waterboy</a>, <a class=\"ilink\" href= \"/interests?i=mrs.+doubtfire\">mrs. doubtfire</a>, <a class=\"ilink\" href=\"/interests?i=there%27s+something+about+mary\">there's something about mary</a>, <a class=\"ilink\" href= \"/interests?i=buffy+the+vampire+slayer\">buffy the vampire slayer</a>, <a class=\"ilink\" href= \"/interests?i=a+night+at+the+roxbury\">a night at the roxbury</a>, <a class=\"ilink\" href=\"/interests?i=nacho%0alibre\">nacho libre</a>, <a class=\"ilink\" href= \"/interests?i=ace+ventura%3a+pet+detective\">ace ventura: pet detective</a>, <a class=\"ilink\" href= \"/interests?i=jerry+maguire\">jerry maguire</a>, <a class=\"ilink\" href=\"/interests?i=moonstruck\">moonstruck</a>, <a class=\"ilink\" href=\"/interests?i=team+america%3a+world+police\">team america: world police</a>, <a class=\"ilink\" href= \"/interests?i=dodgeball\">dodgeball</a>, <a class=\"ilink\" href= \"/interests?i=old+school\">old school</a>, <a class=\"ilink\" href= \"/interests?i=dinnner+for+schmucks\">dinnner for schmucks</a>, <a class=\"ilink\" href=\"/interests?i=the+exorcist\">the exorcist</a>, <a class=\"ilink\" href=\"/interests?i=driving+miss+daisy\">driving miss daisy</a>, <a class=\"ilink\" href=\"/interests?i=con+air\">con air</a>, <a class=\"ilink\" href=\"/interests?i=super+troopers\">super troopers</a>, <a class=\"ilink\" href= \"/interests?i=spice%0aworld\">spice world</a>, <a class=\"ilink\" href=\"/interests?i=jackass\">jackass</a>, <a class=\"ilink\" href= \"/interests?i=horton+hears+a+who%21\">horton hears a who!</a>, <a class=\"ilink\" href=\"/interests?i=step+brothers\">step brothers</a>, <a class=\"ilink\" href= \"/interests?i=interview+with+the+vampire\">interview with the vampire</a>, <a class=\"ilink\" href= \"/interests?i=face%2foff\">face/off</a>, <a class=\"ilink\" href= \"/interests?i=corpse+bride\">corpse bride</a>, <a class=\"ilink\" href=\"/interests?i=rain+man\">rain man</a>, <a class=\"ilink\" href= \"/interests?i=little+shop+of+horrors\">little shop of horrors</a>, <a class=\"ilink\" href=\"/interests?i=look+who%27s+talking\">look who's talking</a>, <a class=\"ilink\" href= \"/interests?i=mannequin\">mannequin</a>, <a class=\"ilink\" href= \"/interests?i=austin+powers\">austin powers</a>, <a class=\"ilink\" href=\"/interests?i=borat\">borat</a>, <a class=\"ilink\" href= \"/interests?i=superbad\">superbad</a>, <a class=\"ilink\" href= \"/interests?i=the%0asimpsons+movie\">the simpsons movie</a>, <a class=\"ilink\" href=\"/interests?i=shrek\">shrek</a> movies, <a class=\"ilink\" href=\"/interests?i=iron+man\">iron man</a>, <a class=\"ilink\" href=\"/interests?i=despicable%0ame\">despicable me</a>, <a class=\"ilink\" href= \"/interests?i=zack+and+miri+make+a+porno\">zack and miri make a porno</a>, <a class=\"ilink\" href= \"/interests?i=waiting\">waiting</a>, <a class=\"ilink\" href= \"/interests?i=sweeney%0atodd\">sweeney todd</a>, <a class=\"ilink\" href=\"/interests?i=disney%2fpixar\">disney/pixar</a>, <a class= \"ilink\" href=\"/interests?i=avatar\">avatar</a> more but i'm tired of listing hmm...i don't really know what others notice... people notice that i am silly, a worrier, talkative, and that i am responsible. guys have told me they notice my butt :) <a class=\"ilink\" href=\"/interests?i=singing\">singing</a>, being <a class=\"ilink\" href=\"/interests?i=creative\">creative</a>, organizing, talking (haha), studying/school, i am detail-oriented, good at multitasking....ok this sounds like a resume!! :) i worked at a <a class=\"ilink\" href= \"/interests?i=veterinary+hospital\">veterinary hospital</a> for around 6 years or so. did multiple positions: relief, many positions: phone room, front desk, client liaison, etc. it was fun. since there wasn't really anywhere to \"move up\" in that field, i just returned to school. was a <a class=\"ilink\" href= \"/interests?i=nanny\">nanny</a> for about a year after i re-started. now i'm currently attending the <a class=\"ilink\" href= \"/interests?i=kaiser+school+of+allied+health\">kaiser school of allied health</a> for <a class=\"ilink\" href= \"/interests?i=ultrasound\">ultrasound</a>. it's super intense, so i have pretty much no time to do anything but study. luckily in a few months i will start clinicals and it won't be as bad...    in my free time i like to <a class=\"ilink\" href= \"/interests?i=read\">read</a>, watch <a class=\"ilink\" href= \"/interests?i=movies\">movies</a> and <a class=\"ilink\" href= \"/interests?i=tv\">tv</a>, <a class=\"ilink\" href= \"/interests?i=bowl\">bowl</a>, go <a class=\"ilink\" href= \"/interests?i=online\">online</a>, hang out with <a class=\"ilink\" href=\"/interests?i=friends\">friends</a>, <a class=\"ilink\" href= \"/interests?i=laugh\">laugh</a>, go to the <a class=\"ilink\" href= \"/interests?i=gym\">gym</a>, spend time <a class=\"ilink\" href= \"/interests?i=outdoors\">outdoors</a>, <a class=\"ilink\" href= \"/interests?i=cross-stitch\">cross-stitch</a>, <a class=\"ilink\" href=\"/interests?i=eat\">eat</a>, etc. *fyi: i am super busy. before today, i hadn't checked this site in months. i will do my best to check it more often, but no promises....*    i am very talkative. i get excited very easily over random things, like when new <a class=\"ilink\" href= \"/interests?i=candies\">candies</a> and <a class=\"ilink\" href= \"/interests?i=sodas\">sodas</a> come out. i love <a class=\"ilink\" href=\"/interests?i=food\">food</a>!!! i love to <a class=\"ilink\" href=\"/interests?i=read\">read</a> and watch <a class=\"ilink\" href= \"/interests?i=movies\">movies</a>. (i enjoy pretty much all types of movies). i like <a class=\"ilink\" href=\"/interests?i=tv\">tv</a> too. after school i love to just unwind by sitting on the couch, <a class=\"ilink\" href=\"/interests?i=eating\">eating</a>, and watching tv. i love <a class=\"ilink\" href= \"/interests?i=music\">music</a>!!! i am a <a class=\"ilink\" href= \"/interests?i=singer\">singer</a>, and tried out for <a class= \"ilink\" href=\"/interests?i=american+idol\">american idol</a> four times. that show pisses me off (yet i still watch it...?) also tried out once for <a class=\"ilink\" href= \"/interests?i=the+voice\">the voice</a>. i have a short <a class= \"ilink\" href=\"/interests?i=demo+album\">demo album</a>, which i made years ago. i play <a class=\"ilink\" href= \"/interests?i=piano\">piano</a> but haven't in way too long....i need to get back into it. i have 2 <a class=\"ilink\" href= \"/interests?i=guitars\">guitars</a> (one acoustic and one electric) but can barely play. i'd learn if i had more time, and patience :) i love <a class=\"ilink\" href=\"/interests?i=animals\">animals</a> too. i had a little blue <a class=\"ilink\" href= \"/interests?i=parakeet\">parakeet</a> named pedro but he passed away recently. (see next box for work, school, etc.) i am jewish by heritage and upbringing, but i am an atheist...yes, i guess i am an <a class=\"ilink\" href=\"/interests?i=atheist+jew\">atheist jew</a> :) also, i graduated in 2004 from sfsu, minor in music, ba in cinema. in junior college i got an aa in music too... i am <a class=\"ilink\" href=\"/interests?i=liberal\">liberal</a>, and a <a class=\"ilink\" href=\"/interests?i=democrat\">democrat</a>. some issues that are important to me: a woman's right to choose, gay rights, i'm against racism, etc.  ok - i'm tired of typing, and it's impossible to put everything about myself in a little box.    check me out at www.myspace.com/songrrl and hear me sing at www.soundclick.com/shannarosenthal    i am a singer, silly, and responsible \n",
      "\n",
      "you want to talk about something that is mentioned in my profile.    you are looking for someone with whom to take bicycle rides. while i used to do regular 30-50 mile rides, i was bikeless for about 6 months after a theft, and currently need to work back up.    you would like to put on fancy clothes and dance like a fairy prince|ss. (if you don't have the fancy clothes, my closet can provide for a shocking array of body types and gender expressions.)    please note that i'm sort of afraid of the phone. i consider my phone to be a mobile internet device slash texting device that happens to make and receive calls. i can be a texting fiend, but i irrationally hate voice calls.    for some reason, my milkshake always seems to be bringing the satanists to my yard. so satanists, i should warn you it's not going to happen. i'll still talk to you though. also, objectivists are satanists with different aesthetics.    if you have a vague idea of dating/making sweet fuck with me, you read that thing under my most-private-thing header about genderqueerness. i statistically find it easier to get along with people who identify as queer, genderqueer, pansexual, or bisexual (in a way that's not gotta-collect-them-all). i am in no way closed to straight men, but if you do not feel actively interested in queer and feminist issues even if you are straight-identified, then understand even friendship is going to be a tad strained. i'm also in no way closed to lesbian-identified women, but i find a similar tension between myself and people who identify as \"lesbian\" rather than \"queer\". i've got no issue with the fact that attraction is attraction, and part of that has to do with body parts, but if you can't respect my own lack of gender, we will have tension. (sometimes i like to roleplay gender in the boudoir, though. it's wrong and dirty.)    faq:  q: what kind of hair dye do you use, and where can i get it?  a: special effects electric blue. you can get it from amphigory (http://www.amphigory.com/special_effects_hairdye.html)    q: do you play/like changeling: the lost?  a: no    q: i have a boyfriend. would you like to be my/our girlfriend?  a: probably not, since you put it that way. if you just think i'm neat and are not commoditizing me as a poly all-gender-loving lady-ish-person, message me though. (nothing against the happiness-seeking of people who want a binary sexuality relationship setup, but that is not me.) *i like <a class=\"ilink\" href= \"/interests?i=changeling\">changeling</a>: the dreaming a little too much.    *this one time, i was sexually aroused by the thought of ayn rand and alan greenspan doing it.    *i have no gender identity. being assigned gender creeps me out. \"genderqueer\" is the term i think of for myself, but that word is fuzzy and describes many different things. i am neither/or, and while i am indifferent to pronouns and reasonably-descriptive labels, i don't do single-gender activities and feel uncomfortable using non-unisex public restrooms. i also have a very hard time respecting that other people do have gender identity, but i work on it and consciously make the attempt.    *i'm excessively romantic; both in that i view the whole world through the magical lenses of <a class=\"ilink\" href= \"/interests?i=imagination\">imagination</a>, transforming every action into sword-swinging heroics or the unending tyranny of pain; and in that i fall in love in a consuming, psychotic fashion. these two related qualities interact to the creation of vast excitement and explosions.    *i have this consistent fear that deep down i have a prudish streak left over from my fundamentalist upbringing. this is a large part of why i once worked in a titty bar for the <a class=\"ilink\" href= \"/interests?i=lulz\">lulz</a>.    *i suffer from depression and dysphoria, and enjoy every minute of random hallucinations.    *i want to pop your zits. dancing improbable modern variations of vintage ballroom dances (plus other things) with nerds at a church in palo alto. no seriously, it's great. i spend a very large amount of time thinking about <a class=\"ilink\" href=\"/interests?i=time+travel\">time travel</a>, superpowers, the physical implications of superpowers, what to do during and after a nuclear/biological/economic/zombie apocalypse, and how i would phrase wishes if said wishes were being granted by the devil. and if this dress makes me look fat.    also, the following topics:    <a class=\"ilink\" href=\"/interests?i=a.+e.+housman\">a. e. housman</a>, <a class=\"ilink\" href= \"/interests?i=abstraction\">abstraction</a>, <a class=\"ilink\" href= \"/interests?i=absurdity\">absurdity</a>, <a class=\"ilink\" href= \"/interests?i=aesthetics\">aesthetics</a>, <a class=\"ilink\" href= \"/interests?i=androgynous+pronouns\">androgynous pronouns</a>, <a class=\"ilink\" href=\"/interests?i=antiques\">antiques</a>, <a class=\"ilink\" href=\"/interests?i=art+nouveau\">art nouveau</a>, <a class=\"ilink\" href=\"/interests?i=astronomy\">astronomy</a>, <a class=\"ilink\" href=\"/interests?i=b+movies\">b movies</a>, <a class=\"ilink\" href=\"/interests?i=baking+soda\">baking soda</a>, <a class=\"ilink\" href=\"/interests?i=ballet\">ballet</a>, <a class= \"ilink\" href=\"/interests?i=baroque\">baroque</a>, <a class=\"ilink\" href=\"/interests?i=bathroom+graffiti\">bathroom graffiti</a>, <a class=\"ilink\" href=\"/interests?i=bicycling\">bicycling</a>, <a class=\"ilink\" href=\"/interests?i=bohemianism\">bohemianism</a>, <a class=\"ilink\" href=\"/interests?i=books\">books</a>, <a class= \"ilink\" href=\"/interests?i=cartoons\">cartoons</a>, <a class=\"ilink\" href=\"/interests?i=changeling\">changeling</a>, <a class=\"ilink\" href=\"/interests?i=chosen+families\">chosen families</a>, <a class= \"ilink\" href=\"/interests?i=civil+disobedience\">civil disobedience</a>, <a class=\"ilink\" href= \"/interests?i=civil+liberties\">civil liberties</a>, <a class= \"ilink\" href=\"/interests?i=clark+ashton%0asmith\">clark ashton smith</a>, <a class=\"ilink\" href= \"/interests?i=classical+mechanics\">classical mechanics</a>, <a class=\"ilink\" href=\"/interests?i=climbing+trees\">climbing trees</a>, <a class=\"ilink\" href= \"/interests?i=communalism\">communalism</a>, <a class=\"ilink\" href= \"/interests?i=computers\">computers</a>, <a class=\"ilink\" href= \"/interests?i=contemplation\">contemplation</a>, <a class=\"ilink\" href=\"/interests?i=corsetry\">corsetry</a>, <a class=\"ilink\" href= \"/interests?i=costuming\">costuming</a>, <a class=\"ilink\" href= \"/interests?i=cthulhu\">cthulhu</a>, <a class=\"ilink\" href= \"/interests?i=d%26amp%3bd\">d&amp;d</a>, <a class=\"ilink\" href= \"/interests?i=d-pittsburgh-bullcrap\">d-pittsburgh-bullcrap</a>, <a class=\"ilink\" href=\"/interests?i=dancing\">dancing</a>, <a class= \"ilink\" href=\"/interests?i=dark+alleys\">dark alleys</a>, <a class= \"ilink\" href=\"/interests?i=ddr\">ddr</a>, <a class=\"ilink\" href= \"/interests?i=don+marquis\">don marquis</a>, <a class=\"ilink\" href= \"/interests?i=dreams\">dreams</a>, <a class=\"ilink\" href= \"/interests?i=edgar+allan+poe\">edgar allan poe</a>, <a class= \"ilink\" href=\"/interests?i=etymology\">etymology</a>, <a class= \"ilink\" href=\"/interests?i=faery+tales\">faery tales</a>, <a class= \"ilink\" href=\"/interests?i=fantasy\">fantasy</a>, <a class=\"ilink\" href=\"/interests?i=folklore\">folklore</a>, <a class=\"ilink\" href= \"/interests?i=fractals\">fractals</a>, <a class=\"ilink\" href= \"/interests?i=freedom\">freedom</a>, <a class=\"ilink\" href= \"/interests?i=frolicking+in+the%0arain\">frolicking in the rain</a>, <a class=\"ilink\" href=\"/interests?i=fuzzy+math\">fuzzy math</a>, <a class=\"ilink\" href=\"/interests?i=gaming\">gaming</a>, <a class= \"ilink\" href=\"/interests?i=geeky+stuff\">geeky stuff</a>, <a class= \"ilink\" href=\"/interests?i=gerard%0amanley+hopkins\">gerard manley hopkins</a>, <a class=\"ilink\" href= \"/interests?i=glitter\">glitter</a>, <a class=\"ilink\" href= \"/interests?i=goat+cheese\">goat cheese</a>, <a class=\"ilink\" href= \"/interests?i=goth\">goth</a>, <a class=\"ilink\" href= \"/interests?i=hacking%0athe+urban+context\">hacking the urban context</a>, <a class=\"ilink\" href=\"/interests?i=happy+toads\">happy toads</a>, <a class=\"ilink\" href=\"/interests?i=haute+couture\">haute couture</a>, <a class=\"ilink\" href= \"/interests?i=hippies\">hippies</a>, <a class=\"ilink\" href= \"/interests?i=historical+cosmological+models\">historical cosmological models</a>, <a class=\"ilink\" href= \"/interests?i=homesteading\">homesteading</a>, <a class=\"ilink\" href=\"/interests?i=honey+badgers\">honey badgers</a>, <a class= \"ilink\" href=\"/interests?i=horror\">horror</a>, <a class=\"ilink\" href=\"/interests?i=hugging+trees\">hugging trees</a>, <a class= \"ilink\" href=\"/interests?i=idealism\">idealism</a>, <a class=\"ilink\" href=\"/interests?i=imagination\">imagination</a>, <a class=\"ilink\" href=\"/interests?i=information+theory\">information theory</a>, <a class=\"ilink\" href= \"/interests?i=intellectualism\">intellectualism</a>, <a class= \"ilink\" href=\"/interests?i=intp\">intp</a>, <a class=\"ilink\" href= \"/interests?i=invader+zim\">invader zim</a>, <a class=\"ilink\" href= \"/interests?i=john+keats\">john keats</a>, <a class=\"ilink\" href= \"/interests?i=jung\">jung</a>, <a class=\"ilink\" href= \"/interests?i=kaiju+big%0abattel\">kaiju big battel</a>, <a class= \"ilink\" href=\"/interests?i=kung+fu+movies\">kung fu movies</a>, <a class=\"ilink\" href=\"/interests?i=larp\">larp</a>, <a class= \"ilink\" href=\"/interests?i=latin\">latin</a>, <a class=\"ilink\" href= \"/interests?i=linguistics\">linguistics</a>, <a class=\"ilink\" href= \"/interests?i=lip+balm\">lip balm</a>, <a class=\"ilink\" href= \"/interests?i=live+journal+interests\">live journal interests</a>, <a class=\"ilink\" href=\"/interests?i=lord+byron\">lord byron</a>, <a class=\"ilink\" href=\"/interests?i=louis%0acomfort+tiffany\">louis comfort tiffany</a>, <a class=\"ilink\" href= \"/interests?i=magical+realism\">magical realism</a>, <a class= \"ilink\" href= \"/interests?i=marxist-satanic-foreign%0asexual+practices\">marxist-satanic-foreign sexual practices</a>, <a class=\"ilink\" href= \"/interests?i=math\">math</a>, <a class=\"ilink\" href= \"/interests?i=mathematical+formalism\">mathematical formalism</a>, <a class=\"ilink\" href= \"/interests?i=mathematical+intuitionism\">mathematical intuitionism</a>, <a class=\"ilink\" href= \"/interests?i=mbti\">mbti</a>, <a class=\"ilink\" href= \"/interests?i=melancholia\">melancholia</a>, <a class=\"ilink\" href= \"/interests?i=metaphor\">metaphor</a>, <a class=\"ilink\" href= \"/interests?i=monsters\">monsters</a>, <a class=\"ilink\" href= \"/interests?i=mythology\">mythology</a>, <a class=\"ilink\" href= \"/interests?i=neil+gaiman\">neil gaiman</a>, <a class=\"ilink\" href= \"/interests?i=nerdcore+hiphop\">nerdcore hiphop</a>, <a class= \"ilink\" href=\"/interests?i=nerdy+stuff\">nerdy stuff</a>, <a class= \"ilink\" href=\"/interests?i=opera\">opera</a>, <a class=\"ilink\" href= \"/interests?i=oscar+wilde\">oscar wilde</a>, <a class=\"ilink\" href= \"/interests?i=pantheism\">pantheism</a>, <a class=\"ilink\" href= \"/interests?i=parrots\">parrots</a>, <a class=\"ilink\" href= \"/interests?i=percy+shelley\">percy shelley</a>, <a class=\"ilink\" href=\"/interests?i=personality%0atype\">personality type</a>, <a class=\"ilink\" href=\"/interests?i=philosophy\">philosophy</a>, <a class=\"ilink\" href=\"/interests?i=physics\">physics</a>, <a class= \"ilink\" href=\"/interests?i=pi\">pi</a>, <a class=\"ilink\" href= \"/interests?i=pie\">pie</a>, <a class=\"ilink\" href= \"/interests?i=playing%0aguitar\">playing guitar</a>, <a class= \"ilink\" href=\"/interests?i=poetry\">poetry</a>, <a class=\"ilink\" href=\"/interests?i=pointless+stories\">pointless stories</a>, <a class=\"ilink\" href=\"/interests?i=polymaths\">polymaths</a>, <a class=\"ilink\" href=\"/interests?i=poncy%0aelves\">poncy elves</a>, <a class=\"ilink\" href=\"/interests?i=psychology\">psychology</a>, <a class=\"ilink\" href=\"/interests?i=pythagoras\">pythagoras</a>, <a class=\"ilink\" href=\"/interests?i=quaint+amusements\">quaint amusements</a>, <a class=\"ilink\" href= \"/interests?i=random+facts\">random facts</a>, <a class=\"ilink\" href=\"/interests?i=reading\">reading</a>, <a class=\"ilink\" href= \"/interests?i=religion\">religion</a>, <a class=\"ilink\" href= \"/interests?i=renaissance%0afestivals\">renaissance festivals</a>, <a class=\"ilink\" href=\"/interests?i=roleplaying+games\">roleplaying games</a>, <a class=\"ilink\" href= \"/interests?i=romanticism\">romanticism</a>, <a class=\"ilink\" href= \"/interests?i=sara%0ateasdale\">sara teasdale</a>, <a class=\"ilink\" href=\"/interests?i=science+as+description\">science as description</a>, <a class=\"ilink\" href= \"/interests?i=science+fiction\">science fiction</a>, <a class= \"ilink\" href=\"/interests?i=science%21\">science!</a>, <a class= \"ilink\" href=\"/interests?i=sewing\">sewing</a>, <a class=\"ilink\" href=\"/interests?i=sexual+liberation\">sexual liberation</a>, <a class=\"ilink\" href=\"/interests?i=shenanigans\">shenanigans</a>, <a class=\"ilink\" href=\"/interests?i=sidhe\">sidhe</a>, <a class= \"ilink\" href=\"/interests?i=snow\">snow</a>, <a class=\"ilink\" href= \"/interests?i=sociology\">sociology</a>, <a class=\"ilink\" href= \"/interests?i=space+opera\">space opera</a>, <a class=\"ilink\" href= \"/interests?i=space%0atravel\">space travel</a>, <a class=\"ilink\" href=\"/interests?i=sparkly+things\">sparkly things</a>, <a class= \"ilink\" href=\"/interests?i=speculative+fiction\">speculative fiction</a>, <a class=\"ilink\" href= \"/interests?i=stained%0aglass\">stained glass</a>, <a class=\"ilink\" href=\"/interests?i=steampunk\">steampunk</a>, <a class=\"ilink\" href= \"/interests?i=storms\">storms</a>, <a class=\"ilink\" href= \"/interests?i=stupid+science+tricks\">stupid science tricks</a>, <a class=\"ilink\" href=\"/interests?i=surrealism\">surrealism</a>, <a class=\"ilink\" href=\"/interests?i=sword+and+sorcery\">sword and sorcery</a>, <a class=\"ilink\" href= \"/interests?i=systems\">systems</a>, <a class=\"ilink\" href= \"/interests?i=tangents\">tangents</a>, <a class=\"ilink\" href= \"/interests?i=tea\">tea</a>, <a class=\"ilink\" href= \"/interests?i=the+moon\">the moon</a>, <a class=\"ilink\" href= \"/interests?i=the+sublime\">the sublime</a>, <a class=\"ilink\" href= \"/interests?i=the+terrible+secret+of%0aspace\">the terrible secret of space</a>, <a class=\"ilink\" href= \"/interests?i=thousands-year+dead+languages\">thousands-year dead languages</a>, <a class=\"ilink\" href= \"/interests?i=thunderstorms\">thunderstorms</a>, <a class=\"ilink\" href=\"/interests?i=toys\">toys</a>, <a class=\"ilink\" href= \"/interests?i=unicore\">unicore</a>, <a class=\"ilink\" href= \"/interests?i=unilobe\">unilobe</a>, <a class=\"ilink\" href= \"/interests?i=unitarian+universalism\">unitarian universalism</a>, <a class=\"ilink\" href=\"/interests?i=vitamin+water\">vitamin water</a>, <a class=\"ilink\" href= \"/interests?i=wikipedia\">wikipedia</a>, <a class=\"ilink\" href= \"/interests?i=wikis\">wikis</a>, <a class=\"ilink\" href= \"/interests?i=wistfulness\">wistfulness</a>, <a class=\"ilink\" href= \"/interests?i=wxaining\">wxaining</a>, <a class=\"ilink\" href= \"/interests?i=yagan%27s+head\">yagan's head</a>, <a class=\"ilink\" href=\"/interests?i=yoga\">yoga</a>, <a class=\"ilink\" href= \"/interests?i=your+mom\">your mom</a>, <a class=\"ilink\" href= \"/interests?i=zombies\">zombies</a> logic, emotion, honesty, freedom, communication, dissatisfaction    realistically, i get really grumpy without the internets, my magic phone, clothes that make me feel pretty, burt's bees lipbalm, my bicycle, and an occasional bout of dancing until i fall down from exhaustion. i'm not sure if that being my list makes me one of \"those people\" books: anything and everything by <a class=\"ilink\" href= \"/interests?i=neil+gaiman\">neil gaiman</a>, hound and falcon series by judith tarr, <a class=\"ilink\" href= \"/interests?i=book+of+the+new+sun\">book of the new sun</a> by gene wolf, the <a class=\"ilink\" href= \"/interests?i=fifth+millennium\">fifth millennium</a> series.    i enjoy <a class=\"ilink\" href= \"/interests?i=speculative+fiction\">speculative fiction</a> in general. i also enjoy reading textbooks. i also like <a class= \"ilink\" href=\"/interests?i=poetry\">poetry</a>, and my favorite poets are <a class=\"ilink\" href=\"/interests?i=don%0amarquis\">don marquis</a>, <a class=\"ilink\" href= \"/interests?i=clark+ashton+smith\">clark ashton smith</a>, <a class= \"ilink\" href=\"/interests?i=sara+teasdale\">sara teasdale</a>, <a class=\"ilink\" href=\"/interests?i=a.e.%0ahousman\">a.e. housman</a>, <a class=\"ilink\" href= \"/interests?i=percy+shelley\">percy shelley</a>, and <a class= \"ilink\" href=\"/interests?i=lord+byron\">lord byron</a>    movies: i like arthaus cinema and terrible terrible sci-fi and kung fu flicks. i love some stupid shit like zoolander and orgazmo. i went about two and a half years without seeing any movies except at the indie theater, which i acknowledged made me a douche.    music: i enjoy goth rock, psychedelic 60s rock, industrial, hippie music, <a class=\"ilink\" href=\"/interests?i=nerdcore\">nerdcore</a> hiphop, well-done filk, spooky triphop, and creepy balladeers. i listen to that electronica that everyone thinks is underground but really isn't, and maybe a little bit that actually is. i like classical music that sounds like the soundtrack to a thunderstorm or as if it was written in the throes of madness. i've got a thing for mashups. bands and artists that i particularly like include: amanda palmer covenant, delirium, don mclean, einsturzende neubauten, jefferson airplane, johnny cash, joy division, justin sullivan, kmfdm, lal waterson, led zeppelin, leonard cohen, live, mc frontalot, neil young, nick cave, nine inch nails, random access memory, sam phillips, simon and garfunkel, siouxsie and the banshees, smashing pumpkins, tenacious d, the austin lounge lizards, the beatles, the cure, the doors, the dresden dolls, the sisters of mercy, the strand, the who, tori amos, beethoven, bartok, bach, chopin, shostakovich, wagner    food: indian, thai, and middle eastern are my favorite. i also really like fruit, mint, dark chocolate, and goat cheese. after 15 years as a lacto-ovo vegetarian, i'm trying to add fish back into my diet for health reasons. thus far the fish still fight back. also, i drink more <a class=\"ilink\" href=\"/interests?i=hot+tea\">hot tea</a> than your english grandmother.    and then things from each of those categories that people seem to think are awesome but that i hate: dan brown, magnolia, techno remixes of classical music (yes, even that carmina burana remix that you think i'll just love), and okra. what the hell is wrong with okra? even indian spicing can't save it. i have blue hair and a <a class=\"ilink\" href= \"/interests?i=surreal+quality\">surreal quality</a>. maybe that i'm riding a bicycle in a bustle skirt. <a class=\"ilink\" href=\"/interests?i=spatial+reasoning\">spatial reasoning</a>, <a class=\"ilink\" href= \"/interests?i=pattern+recognition\">pattern recognition</a>, <a class=\"ilink\" href=\"/interests?i=systems\">systems</a>, anything self-referential.    i change my mind on major worldview-affecting issues when presented with new data at the drop of a hat. i am frighteningly empathetic (and while usually i'm very accurate at reading people, this is also exploited by my friends to make me feel sorry for inanimate objects). i'm rather stronger than the average human, and i have a high pain tolerance and a mutant healing factor and the ability to fold most of my joints into improbable configurations.    i've been told that my singing is like unto the sirens', i can usually make music come out of anything that has strings, and i get a lot of compliments on my dancing. not my laundry.    bicycling. trying to get more exercise. screachily practicing the violin. reading and posting to a very high volume email list of which i have been a member for 8 years now. haxx0ring b0xx0rs. wearing fancy clothes and prancing and dancing. this may include fancy dancing (vintage ballroom), prancy dancing (folk dance or choreographed dancing), and chancy dancing (social mostly-partner dancing in which any dance could happen). at some point there will be francy dancing (can-can).    i tend to move a lot. i moved to san francisco in april '10. i have hopes that it will hold my attention for more than a few years, unlike other places. 2 years in, and i love it and am home.    also i do \"stuff with computers,\" \"for a living\", as the kids say these days. i like cold, unfeeling machines and their beautiful logic. i worked a whole lot, courting workaholism, for a startup for the last year. i'm indulging in a few months of dilletantery at the moment. note: i am not sane, down to earth, or easy going. i feel this is important to tell people since so many people list these qualities as necessary.    i am whimsical as fuck. i'm not quite as delightfully <a class= \"ilink\" href=\"/interests?i=bohemian\">bohemian</a> as i once was. i like <a class=\"ilink\" href=\"/interests?i=gothic\">gothic</a> aesthetics and <a class=\"ilink\" href= \"/interests?i=hippie\">hippie</a> <a class=\"ilink\" href= \"/interests?i=ideals\">ideals</a>. i like <a class=\"ilink\" href= \"/interests?i=geek\">geek</a>y diversions and <a class=\"ilink\" href= \"/interests?i=nerd\">nerd</a>y stimulations, without the dorky lack of grace.    i am an atheist (though much like fox mulder, i want to believe), a pantheist, and a <a class=\"ilink\" href= \"/interests?i=unitarian+universalist\">unitarian universalist</a>. i am also a <a class=\"ilink\" href= \"/interests?i=fairy%0aprincess\">fairy princess</a>. luckily for me, technology sufficiently advanced is indistinguishable from magic. metaphysically.    i am fueled by love, unholy rage, and dissatisfaction.    i am extremely arrogant, and i think humility is a hypocritical ideal in our society. it is rude, however, to inform people that they're plebes. i have bouts of extremely low self esteem that stem from the extremely high standards i would like to and try to embody. i don't live up to my own expectations. neither does anyone else. that is how i want it.    i'm incredibly spacey and detached. i leave my head places despite the fact that it is attached to my neck. my mind wanders. i'm fairly incapable of mentally single-tasking. related to all of these items, i prefer conversation with people who can carry on interlocked conversations about unrelated topics with no need to segue between topics. related to that, i am an interrupter, and i find it easier to communicate with interrupters. i'm working on communicating differently with people that find that hard to deal with.    i hate puritans. i tend to blame things on puritans, but really, it's usually their fault.    my sense of humor consists of equal parts pretentious academic references and cock jokes.    i have historically identified myself as polyamorous because a)i have lots of feelings for lots of people, and it seems artificial for me to choose or ask someone else to choose, b)i don't like to commoditize people. i enjoy an occasionally dramatic relationship with <a class=\"ilink\" href= \"/interests?i=xavieram\">xavieram</a>.    my three adjectives were, \"intellectual\", \"moody\", and \"inquisitive\". \n",
      "\n",
      "you'd like to save the world but you're not sure how (btw, i don't know either, but two brains are better one).   you like <a class=\"ilink\" href= \"/interests?i=cheese\">cheese</a>.   you don't take yourself too seriously.   you want to people watch, i.e. make fun of douchebags and guess what their inane conversations are about.   you want to <b>do</b> stuff or teach me something new.   you're not afraid of <b>unicorns</b> or you <b>are</b> afraid of <a href=\"http://www.youtube.com/watch?v=uo2zrcexdru\" rel=\"nofollow\" target=\"_blank\">naked men dressed up as unicorns</a>. <b>&lt;-- clicky</b>.   <b>you managed to read my <u>entire</u> profile and don't feel the urge to gouge your eyes out or commit any other form of self-harm.</b>   you can (<b>clicky --&gt;</b>) <a href=\"http://farm5.static.flickr.com/4140/4767489458_1f5a66e053.jpg\" rel=\"nofollow\" target=\"_blank\">survive longer than i can (47 seconds)</a> after kicking a bear in the balls. oh, and don't worry, i won't question your manhood if you can't survive longer than me.   you believe that <a class=\"ilink\" href= \"/interests?i=words\">words</a> are <b>pretty fucking awesome</b> and you know how to wield them.   you need a spunky borderline midget vocalist for your awesome band or your <b>awesomely shitty band</b> (hey, we all gotta start somewhere).   you're a lyricist. i can come up with tunes but i'm terrible when it comes to putting words to them. help!   you can teach me how to play drums. i actually have friends (flaky ones) who have taught me intermittently but i'd love to commit to a more frequent schedule.   you want to listen to music together via a headphone splitter and go frolicking in a park.   if you want to give me a call, my phone number is <a class= \"ilink\" href=\"/interests?i=867-5309\">867-5309</a>. my name is jenny. actually, that's a lie. my real phone number is <a class= \"ilink\" href=\"/interests?i=777-9311\">777-9311</a> and my name is sheila e. no wait, that's a lie too. too bad for you. oh snap, i rhymed! take that, all you pulitzer poets!    <i>** if you have \"<b>4u</b>\" or something similar in your profile name, it's highly likely that we won't get along. just sayin'. **</i> i have a strange affinity for loading dishwashers but i'm not a fan of unloading them. it's like solving a puzzle each time. it really irritates me when my roommate throws the dishes in haphazardly with zero regard for space maximization.    i often imagine elaborate fight scenes between myself and random strangers. this happens most frequently when i'm using public transportation. i blame this on my background in martial arts and also maybe video games, anime and bruce lee. speaking of bruce lee, i used to have a velvet bruce lee shirt... actually, i still do have it. it's probably cohabiting with my bob ross shirt somewhere in the attic. don't judge.    i was a homecoming princess in high school. i wore a hideous full-length sequined dress. i'm still unsure of how or why this came to pass. i guess my peers decided that i was a suitable token nerd.    the list of things i've dropped out of in my life includes a collegiate a cappella group and a mariachi band.    i'm a gal who can't stand long fingernails. i think that they're pretty icky. the crungus that has collected under one's long nails could very well include some crazy mutant diseases, you know? besides, you can't make proper tight fists with long nails. you also can't effectively punch someone in the balls when you've got long nails. trust me, i know. reasonable excuses for long nails include pick-free guitar picking and straw-less coke snorting.    i own a dead shark. his name is jaws jr.    <b>i am nice</b>. like, really really nice to a fault. it's kind of annoying. this might be due to the fact that mother teresa is my second cousin. hugs and baked goodies tend to come along with this niceness territory. if i give you a hug or some cupcakes, it doesn't mean that i want to have your babies. plz get over yourself.    sometimes i have to remind myself that i'm alive. snuggled up with my kitty and a book.   baking <a class=\"ilink\" href= \"/interests?i=cookies\">cookies</a>.   <a class=\"ilink\" href=\"/interests?i=eating\">eating</a> cookies.   making <a class=\"ilink\" href=\"/interests?i=origami\">origami</a> dinosaurs.   thinking about <a href=\"http://images.thmbz.com/128e398e80_manatee-bumps-into-glass.gif\" rel=\"nofollow\" target=\"_blank\">manatees</a>. <b>&lt;-- clicky</b>. oh! and <a href=\"http://www.youtube.com/watch?v=tm_lrk4upvw\" rel=\"nofollow\" target=\"_blank\">this one</a> <b>&lt;-- clicky</b> (remember dr. katz??!).   at a live show at both, gamh, the indy, the fox, bimbo's, etc. <a class=\"ilink\" href=\"/interests?i=robots\">robots</a>. hoping that my next place will have space for building them.   <a class=\"ilink\" href=\"/interests?i=food\">food</a>.   my post-apocalyptic dreams.   why most cans of <a class=\"ilink\" href= \"/interests?i=tuna\">tuna</a> \"in water\" contain vegetable broth.   <a class=\"ilink\" href=\"/interests?i=dinosaurs\">dinosaurs</a>. <b>rawr!</b> electronics + raptors = <a href=\"http://www.lolblog.co.uk/wp-content/uploads/2009/01/raptorvu9.jpg\" rel=\"nofollow\" target=\"_blank\"> ??</a> <b>&lt;-- clicky</b>.   what kind of kitty <a class=\"ilink\" href= \"/interests?i=porn\">porn</a> my cat watches on my computer (there's always suspicious paw prints on my keyboard).   wacky new inventions of my own design that will improve my way of life.   the precarious existence of ironic mustaches.   why <b>you</b> and <b>i</b> are xx% <a class=\"ilink\" href= \"/interests?i=enemy\">enemy</a>.   whether or not i am <a class=\"ilink\" href= \"/interests?i=human\">human</a> or <a class=\"ilink\" href= \"/interests?i=dancer\">dancer</a>. (and if you couldn't guess correctly on your own, i absolutely loathe the song).   how <b>full of shit</b> people on the internet are. <a class=\"ilink\" href=\"/interests?i=music\">music</a> (live or blasted into my ears via my ipod). also, <a class=\"ilink\" href= \"/interests?i=radiolab\">radiolab</a> and <a class=\"ilink\" href= \"/interests?i=tal\">tal</a>.   <b>humour</b>. (sometimes i like to spell words the british way just for shits and giggles.)   <a class=\"ilink\" href=\"/interests?i=animals\">animals</a>. i love them all, from dogs to guinea pigs and i will always want to have them in my life.   salt. (nacl, not that shitty angelina jolie movie.)   carbs. (no atkins pour moi!)   <a class=\"ilink\" href=\"/interests?i=friends\">friends</a>. i value friendship very very highly. it seems like most people that i meet or already know do not. maybe i just have a different definition of friendship than most, or maybe i just meet the wrong people. i am extremely loyal to those who have earned my trust. if i tell you that you can call me at any time of the day or night to talk, then i mean it. <b>books:</b> the little prince. i love <a class=\"ilink\" href= \"/interests?i=murakami\">murakami</a>, <a class=\"ilink\" href= \"/interests?i=neal%0astephenson\">neal stephenson</a> and <a class= \"ilink\" href=\"/interests?i=neil+gaiman\">neil gaiman</a>. i think it's unfortunate that orson scott card is such a gigantic homophobe. it'd be great if he was somehow a homophone instead. it's only one letter off on the keyboard, you know? ahh well.    <b>webcomics:</b> <a class=\"ilink\" href= \"/interests?i=xkcd\">xkcd</a>, <a class=\"ilink\" href= \"/interests?i=dinosaur+comics\">dinosaur comics</a>, <a class= \"ilink\" href=\"/interests?i=cyanide+and%0ahappiness\">cyanide and happiness</a>, <a class=\"ilink\" href= \"/interests?i=wondermark\">wondermark</a>, <a class=\"ilink\" href= \"/interests?i=hijinks+ensue\">hijinks ensue</a>, <a class=\"ilink\" href=\"/interests?i=overcompensating\">overcompensating</a>, <a class=\"ilink\" href=\"/interests?i=brightly+wound\">brightly wound</a>, <a class=\"ilink\" href= \"/interests?i=anders+loves+maria\">anders loves maria</a>, <a class= \"ilink\" href=\"/interests?i=perry+bible+fellowship\">perry bible fellowship</a>, <a class=\"ilink\" href= \"/interests?i=natalie+dee\">natalie dee</a>, <a class=\"ilink\" href= \"/interests?i=diesel+sweeties\">diesel sweeties</a>, <a class= \"ilink\" href=\"/interests?i=the+oatmeal\">the oatmeal</a>.    <b>movies (to name very few):</b> <a class=\"ilink\" href= \"/interests?i=harold+and+maude\">harold and maude</a>, <a class= \"ilink\" href=\"/interests?i=the+house%0aof+yes\">the house of yes</a>, <a class=\"ilink\" href=\"/interests?i=waking+life\">waking life</a>, <a class=\"ilink\" href=\"/interests?i=blade+runner\">blade runner</a>, <a class=\"ilink\" href=\"/interests?i=ghost+dog\">ghost dog</a>, <a class=\"ilink\" href=\"/interests?i=12%0aangry+men\">12 angry men</a>, <a class=\"ilink\" href= \"/interests?i=spirited+away\">spirited away</a>, <a class=\"ilink\" href=\"/interests?i=donnie+darko\">donnie darko</a>, <a class=\"ilink\" href=\"/interests?i=am%c3%a9lie\">amlie</a>, <a class=\"ilink\" href= \"/interests?i=eternal+sunshine\">eternal sunshine</a>, <a class= \"ilink\" href=\"/interests?i=the+princess+bride\">the princess bride</a>, <a class=\"ilink\" href= \"/interests?i=o+brother%2c+where%0aart+thou%3f\">o brother, where art thou?</a>, <a class=\"ilink\" href= \"/interests?i=the+neverending+story\">the neverending story</a>, <a class=\"ilink\" href=\"/interests?i=the+usual+suspects\">the usual suspects</a>, <a class=\"ilink\" href= \"/interests?i=hedwig+and+the+angry+inch\">hedwig and the angry inch</a>, <a class=\"ilink\" href= \"/interests?i=shawshank\">shawshank</a>, lotr, all of <a class= \"ilink\" href=\"/interests?i=wes%0aanderson\">wes anderson</a>'s stuff, all of <a class=\"ilink\" href= \"/interests?i=christopher+guest\">christopher guest</a>'s stuff. i wish that i could've met <a class=\"ilink\" href= \"/interests?i=akira+kurosawa\">akira kurosawa</a>. i have no idea what on earth we would do without <a class=\"ilink\" href= \"/interests?i=bill+murray\">bill murray</a>. i was once a few feet away from him and managed not to molest him. i guess i'm not so bad at self-restraint.    <b> music :</b> i'm a part-time indie hipster <a class=\"ilink\" href=\"/interests?i=douchebag\">douchebag</a>. despite this fact, i am fairly open-minded when it comes to music that i enjoy. it kind of rubs me the wrong way when i hear people say that they absolutely vehemently can't stand certain genres of music (most commonly, <a class=\"ilink\" href=\"/interests?i=rap\">rap</a> and <a class=\"ilink\" href=\"/interests?i=country\">country</a>) without good reason. i feel that all genres of music have something beautiful and special to offer. while one can often find me at various <a class=\"ilink\" href=\"/interests?i=indie%0arock\">indie rock</a> shows, i'm just as likely to be cleaning the house while listening (and dancing) to <a class=\"ilink\" href= \"/interests?i=bluegrass\">bluegrass</a> or lying in bed while humming along with glenn gould as he plunks out <a class=\"ilink\" href=\"/interests?i=bach\">bach</a>'s goldberg variations. here are a handful of names for good measure: <a class=\"ilink\" href= \"/interests?i=beirut\">beirut</a>, <a class=\"ilink\" href= \"/interests?i=metric\">metric</a>, <a class=\"ilink\" href= \"/interests?i=radiohead\">radiohead</a>, <a class=\"ilink\" href= \"/interests?i=sigur+r%c3%b3s\">sigur rs</a>, <a class=\"ilink\" href= \"/interests?i=local%0anatives\">local natives</a>, <a class=\"ilink\" href=\"/interests?i=the+knife\">the knife</a> (karin! ), <a class= \"ilink\" href=\"/interests?i=air\">air</a>, <a class=\"ilink\" href= \"/interests?i=andrew+bird\">andrew bird</a>, <a class=\"ilink\" href= \"/interests?i=low\">low</a> (alan sparhawk is my favorite mormon), <a class=\"ilink\" href=\"/interests?i=rilo+kiley\">rilo kiley</a>, <a class=\"ilink\" href=\"/interests?i=stars\">stars</a>, <a class= \"ilink\" href=\"/interests?i=nick+drake\">nick drake</a>, <a class= \"ilink\" href=\"/interests?i=iron+%26amp%3b+wine\">iron &amp; wine</a>, <a class=\"ilink\" href=\"/interests?i=yyys\">yyys</a>, <a class=\"ilink\" href=\"/interests?i=sunset%0arubdown\">sunset rubdown</a> (i'm hopelessly in love with spencer - this doesn't mean that i'm necessarily biased against dan boeckner), <a class= \"ilink\" href=\"/interests?i=gillian%0awelch\">gillian welch</a>, <a class=\"ilink\" href=\"/interests?i=miles+davis\">miles davis</a>, <a class=\"ilink\" href=\"/interests?i=sufjan+stevens\">sufjan stevens</a>, <a class=\"ilink\" href= \"/interests?i=elliott+smith\">elliott smith</a>, <a class=\"ilink\" href=\"/interests?i=boards+of+canada\">boards of canada</a>, <a class=\"ilink\" href=\"/interests?i=la+roux\">la roux</a>, <a class= \"ilink\" href=\"/interests?i=the+national\">the national</a>, <a class=\"ilink\" href=\"/interests?i=the+magnetic%0afields\">the magnetic fields</a>, <a class=\"ilink\" href= \"/interests?i=explosions+in+the+sky\">explosions in the sky</a>, <a class=\"ilink\" href=\"/interests?i=bowerbirds\">bowerbirds</a>, <a class=\"ilink\" href=\"/interests?i=fleet%0afoxes\">fleet foxes</a>, <a class=\"ilink\" href=\"/interests?i=bon+iver\">bon iver</a>, <a class=\"ilink\" href=\"/interests?i=joy+division\">joy division</a>, <a class=\"ilink\" href=\"/interests?i=modeselektor\">modeselektor</a>, <a class=\"ilink\" href=\"/interests?i=pj%0aharvey\">pj harvey</a>, <a class=\"ilink\" href=\"/interests?i=cat+power\">cat power</a>, <a class=\"ilink\" href=\"/interests?i=ratatat\">ratatat</a>, <a class= \"ilink\" href=\"/interests?i=jens+lekman\">jens lekman</a>, <a class= \"ilink\" href=\"/interests?i=the%0akills\">the kills</a>, <a class= \"ilink\" href=\"/interests?i=stevie+wonder\">stevie wonder</a>, <a class=\"ilink\" href=\"/interests?i=they+might+be+giants\">they might be giants</a>, <a class=\"ilink\" href= \"/interests?i=hot+chip\">hot chip</a>, <a class=\"ilink\" href= \"/interests?i=rjd2\">rjd2</a>, <a class=\"ilink\" href= \"/interests?i=zo%c3%ab+keating\">zo keating</a>, <a class=\"ilink\" href=\"/interests?i=of+montreal\">of montreal</a>, <a class=\"ilink\" href=\"/interests?i=arcade+fire\">arcade fire</a>, <a class=\"ilink\" href=\"/interests?i=the%0adodos\">the dodos</a>, <a class=\"ilink\" href=\"/interests?i=beach+house\">beach house</a>, <a class=\"ilink\" href=\"/interests?i=m83\">m83</a>, <a class=\"ilink\" href= \"/interests?i=the+smiths\">the smiths</a>, <a class=\"ilink\" href= \"/interests?i=band+of%0ahorses\">band of horses</a>, <a class= \"ilink\" href=\"/interests?i=mos+def\">mos def</a> (i gave him a high five a few weeks ago), <a class=\"ilink\" href= \"/interests?i=mogwai\">mogwai</a>, <a class=\"ilink\" href= \"/interests?i=ellen+allien\">ellen allien</a>, <a class=\"ilink\" href=\"/interests?i=florence+%2b+the+machine\">florence + the machine</a>, <a class=\"ilink\" href=\"/interests?i=four%0atet\">four tet</a>, <a class=\"ilink\" href=\"/interests?i=cut+copy\">cut copy</a>, <a class=\"ilink\" href= \"/interests?i=blonde+redhead\">blonde redhead</a>, <a class=\"ilink\" href=\"/interests?i=foals\">foals</a>, <a class=\"ilink\" href= \"/interests?i=mark%0akozelek\">mark kozelek</a>, <a class=\"ilink\" href=\"/interests?i=the+xx\">the xx</a>, <a class=\"ilink\" href= \"/interests?i=jay-z\">jay-z</a>, <a class=\"ilink\" href= \"/interests?i=paul+simon\">paul simon</a>, <a class=\"ilink\" href= \"/interests?i=m.+ward\">m. ward</a>, <a class=\"ilink\" href= \"/interests?i=nat+king+cole\">nat king cole</a>, <a class=\"ilink\" href=\"/interests?i=goldfrapp\">goldfrapp</a>, <a class=\"ilink\" href= \"/interests?i=conor+oberst\">conor oberst</a>, <a class=\"ilink\" href=\"/interests?i=joanna%0anewsom\">joanna newsom</a>, <a class= \"ilink\" href=\"/interests?i=bowie\">bowie</a>, <a class=\"ilink\" href= \"/interests?i=black+rebel+motorcycle+club\">black rebel motorcycle club</a>, <a class=\"ilink\" href= \"/interests?i=regina%0aspektor\">regina spektor</a>, <a class= \"ilink\" href=\"/interests?i=ani+difranco\">ani difranco</a>, <a class=\"ilink\" href=\"/interests?i=stars+of+the+lid\">stars of the lid</a>. <a class=\"ilink\" href= \"/interests?i=soundtracks\">soundtracks</a> never cease to amaze me. oh, and i'm a sucker for a good beat. <b>oontz oontz oontz</b>. i also sometimes make my own music that sucks, but it's fun. also, in case you were wondering:    <i>music is my boyfriend.  music is my girlfriend.  music is my dead end.  music is my imaginary friend.  music is my hot hot bath.  music is my hot hot sex.  music is my back rub.  my music is where i'd like you to touch...</i>  -<a href=\"http://www.youtube.com/watch?v=fnvpdcjnzro\" rel=\"nofollow\" target=\"_blank\">css</a> (no, not the style sheets, you nerd!)    <b>tv [i don't own a television (<i>i mean that in a totally unpretentious way</i>), but there are few shows that i can tolerate]:</b> <a class=\"ilink\" href= \"/interests?i=dexter\">dexter</a>, <a class=\"ilink\" href= \"/interests?i=arrested+development\">arrested development</a>, <a class=\"ilink\" href=\"/interests?i=the%0aoffice\">the office</a>, <a class=\"ilink\" href=\"/interests?i=south+park\">south park</a>, <a class=\"ilink\" href=\"/interests?i=curb+your+enthusiasm\">curb your enthusiasm</a>, <a class=\"ilink\" href= \"/interests?i=the+it%0acrowd\">the it crowd</a>, <a class=\"ilink\" href=\"/interests?i=garth+marenghi%27s+darkplace\">garth marenghi's darkplace</a>, <a class=\"ilink\" href= \"/interests?i=futurama\">futurama</a> (yay! it's back!), <a class= \"ilink\" href=\"/interests?i=home+movies\">home movies</a>, <a class= \"ilink\" href=\"/interests?i=it%27s+always+sunny\">it's always sunny</a>, <a class=\"ilink\" href=\"/interests?i=daily+show\">daily show</a>, <a class=\"ilink\" href= \"/interests?i=venture+bros.\">venture bros.</a>, <a class=\"ilink\" href=\"/interests?i=colbert+report\">colbert report</a>, <a class= \"ilink\" href=\"/interests?i=community\">community</a> (el bigote de la cabra es cameron daz!), <a class=\"ilink\" href= \"/interests?i=mad+men\">mad men</a>, <a class=\"ilink\" href= \"/interests?i=firefly\">firefly</a>, <a class=\"ilink\" href= \"/interests?i=black%0abooks\">black books</a> (dylan moran! ), <a class=\"ilink\" href=\"/interests?i=mighty+boosh\">mighty boosh</a>, most of ricky gervais' stuff. <a class=\"ilink\" href= \"/interests?i=conan+o%27brien\">conan o'brien</a> will always have my heart. i have a big crush on <a class=\"ilink\" href= \"/interests?i=zach+galifianakis\">zach galifianakis</a>. <b><i>bears, beets, <a class=\"ilink\" href= \"/interests?i=battlestar%0agalactica\">battlestar galactica</a></i></b>. i've never seen <a class=\"ilink\" href= \"/interests?i=lost\">lost</a> and i don't feel bad about this fact. thrilled about <a class=\"ilink\" href=\"/interests?i=louie\">louie</a> (louis c.k.'s current endeavor) - holy shit, the show totally captures his essence. i'm planning on flying to new york soon to stalk him for a bit and then propose to him when the time is right. if you happen to have any tips on how a woman should propose to a man whom she's been stalking, please let me know.    <b>food:</b> sometimes i feel like i might be the only <b>carnivore</b> left in the san francisco bay area. i really enjoy <a class=\"ilink\" href=\"/interests?i=baking\">baking</a>. it's a hobby that i think helps to keep me relatively sane. if you're nice to me, i'd be happy to bake you a cake (or whatever else you request or dare me to attempt). i'm always in need of guinea pigs (aside from the needy / homeless people whom i donate my goodies to - they're pretty easy to please) to test my food on, so, inquire within if you dare. a guy once ran after me to thank me because my smile had made his day.    i usually have some sort of photograph-taking device in my hand. i love taking photos even though i'm not all that great with a camera. it's just a great feeling to be able to visually document my life and the world around me.    that i'm a wee bit <b>vertically-challenged</b>.    that i'm stuck-up, aloof and endlessly tinkering with my phone, which secretly means that i am shy/reserved/unsure what to do with myself whilst floating amongst the sea of unknown fish. listening.   <a href=\"http://www.youtube.com/watch?v=8mmc3f588yc\" rel=\"nofollow\" target=\"_blank\">breathing</a>. <b>&lt;-- clicky</b>.   eating.   being silent.   <a class=\"ilink\" href=\"/interests?i=baking\">baking</a> delicious things in the wee hours of the night. (i wanted to start a blog titled, <i>the midnight baker</i>, but it was already taken. that bitch.)   daydreaming.   losing my glasses. :(   laughing and <a href=\"http://www.youtube.com/watch?v=j8bli13ro9a\" rel=\"nofollow\" target=\"_blank\">monocle smiling</a>. <b>&lt;-- clicky</b>.   people watching.   being too nice for my own good.   being clumsy.   <a class=\"ilink\" href=\"/interests?i=stargazing\">stargazing</a>. <b>fuck yeah astronomy</b>!    helping friends get through ridiculously nasty divorces. :(   being an insomniac.   making up new <a class=\"ilink\" href= \"/interests?i=words\">words</a>. unfortunately this skill doesn't help me win <a class=\"ilink\" href= \"/interests?i=scrabble\">scrabble</a> games.   being terrible at playing video games.   <a class=\"ilink\" href=\"/interests?i=dancing\">dancing</a> while no one's watching. (i know, totally clich, but it's true!)   rocking my cat like a baby.   making <b>epic</b> messes in the kitchen.   <a class=\"ilink\" href=\"/interests?i=singing\">singing</a> while no one's listening. i'm too <b>shy</b> to serenade anyone or sing karaoke, but i think that my shower makes for a nice pretend studio. if you ask nicely i might record a song for you. pretty much anything you request. no one ever takes me up on this offer!   <a class=\"ilink\" href=\"/interests?i=making+lists\">making lists</a>. i was unaware of this talent until i joined okc. wondering how i can parlay this into a new career. waffling. <a href=\"http://bit.ly/guineasaurus\" rel=\"nofollow\" target=\"_blank\">battling guineasaurus-rexes</a>. <b>&lt;-- clicky</b>.    planning my first ever trip to japan!  <b>()()    </b>  <b></b>!!    totally <b>not</b> missing the world of academia, but totally missing watching brains in action live or under the 'scope. hey, i said watching brains, not eating. don't be afraid. i guess i also miss shooting the shit with cosmonauts in orbit. they're the reason why i acquired the most atrocious russian accent. <b>01101000 01101001!</b> (btw, as much as i appreciate your effort, please refrain from writing to me in binary, guys. it's getting kinda old.)    i am zany, zesty, and zeppelin-loving (what happened to the three-word descriptor? i kinda liked that profile feature)... anyway, i'm full of <b>fail</b> when it comes to describing myself. so yeah, here goes nothin'...     people always assume things about me and they are often wrong...   i am 2\" (5.08cm) taller than a sitting giant panda and i'm the same height as a fully grown lion. yeah, you read that right. i totally used the si in that sentence. i blame science.   i enjoy taking things apart and putting them back together again.   i'm an <a class=\"ilink\" href=\"/interests?i=intj\">intj</a>, if that means anything to you.   i was <b>rejected by eharmony</b>. success!   i'm right-handed and i've always worn watches on my right wrist instead of my left. yes, i'm quite the rebel.   one of the best compliments i've ever received in my life has got to be, <b>\"omg you're just like macguyver!!\"</b>   i like the word <i>nougat</i> more than i like the candy itself.   i almost <b>hit a grizzly bear</b> with my old car (her name was bertha, rip). i almost tried to grab my camera to take a picture of the bear, but then i decided that my life was more valuable than a digital image that would get posted on myspace and subsequently be forgotten as fast as you can say, \"i hate hipsters\".   <b>(3/11/11)</b> meh. haven't been on here much over the past year or so. sorry for the slow/late responses and lack of oddities being posted. <s>i've developed a <b>compulsive addiction</b> for updating my okcupid profile with various tidbits that invade my brain at any given time of the day. no, i will not apologize for my now obnoxiously long and self-indulgent profile. so yes, dear readers: <b>plz 5tay tun3d 4 m0ar</b>.</s>    <i>** one thing of note is that i'm mainly here looking for new friends and/or activity partners (especially show buddies and world travelers!), be they male, female, alien or panda :) **</i> \n",
      "\n"
     ]
    }
   ],
   "source": [
    "print(\"Mis-predicted Women quotes\")\n",
    "print('---------------------------')\n",
    "for row in bad_women:\n",
    "    print(essay_sex[y == 0].all_essays.iloc[row])\n",
    "    print('')"
   ]
  },
  {
   "cell_type": "markdown",
   "metadata": {},
   "source": [
    "For men, it seems that sexual orientation strongly affects predictions. See below for an example."
   ]
  },
  {
   "cell_type": "code",
   "execution_count": 19,
   "metadata": {},
   "outputs": [
    {
     "name": "stdout",
     "output_type": "stream",
     "text": [
      "Mis-predicted Men quotes\n",
      "--------------------------\n",
      "you feel me and it resonates with you, you're intrigued, and you can probably tell i'm for real. i masturbated once. dinner and a movie the interesting times we live in and what's unfolding on the planet the sun  a woman's body and voice  the heart and the voice that arises from it  water in all it's forms  wisdom  good friends movies: life is beautiful, wizard of oz, the fountain, dead poets society, avatar (parts), raising arizona, i am.  books: the water of life, the seat of the soul, the way of the superior man, the way of the peaceful warrior, the power of now.  shows: the daily show and colbert report  my music tastes are too diverse to list, from rock to pop to classical. they tend to feel at ease around me  depth, friendliness, playfulness and loving energy my work  loving and going deep with myself and others  inspiring myself and others  honest communication  feeling intuitively and reading the energy of people and places  aesthetic sensibility  singing  kissing and making love  enjoying life and being playful  being strong and really \"there\" when times call for it  playing with dogs and cats  driving practicing being fully present, open, loving, courageous, humble, accepting and grateful moment by moment.  serving others in healing and awakening to their life's full potential.  hanging out with good people and letting the love and laughter flow.  listening to good music, dancing, singing, hiking, mountain biking and adventuring to amazing places.  being creative and true to myself.  shopping for a fast, fun car. i was born in milan, moved to california with my family at age 10, went through an existential crisis and had profound spiritual awakenings during my early 20's which showed me the primary purpose of my life: to love and to serve. i was always wiser beyond my years and a natural as a counselor so eventually became a psychotherapist and life coach. what i really love to do is help people heal their disconnect from the truth within themselves, take the mask off, go deep and embrace their authentic self. that's beautiful! i also love helping couples step out of the box and discover themselves anew.    i have a sharp mind but live deeply from my heart. i am happy and peaceful and also very passionate and fun to be with. i am highly fulfilled in my career because it's a natural fit and i truly make a positive difference in the world. i am spiritual but also practical, funny, very loving and caring, sincere and authentic, playful, exuberant, joyous, artistic and creative. i am an excellent communicator, love romance and making love. i love philosophy and art, great music of all kinds, and of course, great food. i am quite in my element holding someone i love with full presence and tenderness as well as dancing like a madman with my friends or being in the mountains or by the ocean alone. i went through the new age soft male phase years ago and am not that any longer, thank god.    as a whole, mature man i embody and express both masculine fire, focus, strength and solidity and feminine intuition, care and emotional intelligence. i strive to be humble and down to earth, open, courageously vulnerable and able to laugh at myself and the stories my mind conjures up.    i have wonderful friends, and a great relationship with my family. i also know how to be a good friend to myself and call myself on my stuff.    i want a radiantly feminine woman who is relatively happy, mature, evolved and self-empowered. \n",
      "\n",
      "you have read this far and are still interested.  you like what you see.  you know how to see the best of a situation. happiness is a choice.  you can appreciate quality in most things. no pessimists.  you can introduce me to something new and exciting i haven't seen and done in the bay area. i have no shame. having a blast.  nothing in my life is typical. my schedule and location vary from day to day.  i'm either busy working or busy being social. how important and dynamic communication is. everyone expresses themselves differently.    what is going on tonight? ( i have a serious case of fomo)  what restaurant/bar should i go to?  traveling.  \"i never thought of that..\" in no order:  delicious meals  great drinks  intimacy  laughter  stochasticity  quality although i harbor a colorful imagination, as far as books and movies are concerned, i prefer non-fiction and documentaries.  i am also a fan of film noir (especially french), epic time period sagas, campy/kitchy pulp, and suspense.    lots of npr (especially in the car). love: this american life, radio lab, snap judgement, and the moth hour.    music- i am a fan of most genres of music (i used to play for a living in a former life), but to dance i need a groove: soul, funk, r&amp;b, salsa, jazz, house, breaks, etc.  no country pop.    i love to dance.    food- i eat everything, but not from everywhere. i enjoy well-prepared, sustainable food. i eat out a lot (almost for a living). i'm not shy.  my laugh- it's loud and contagious. being myself.  making people laugh.  creating delicious adult libations.  dropping karaoke bombs.  pulling off ridiculous, over-the-top, in-character costumes.  spontaneous adventures.  understanding.  getting along with dogs.  giving. working a lot. traveling all over, and loving it.    chasing the end of the rainbow.    living the the dream. i am a fun loving, gregarious individual with a lust for life. i am passionate about food &amp; drink, music, dancing, and anything else that feels positive within the human experience or on a spiritual level.    i have lived in the bay area since '97 and in the city of san francisco since 2001. i absolutely love it here. every time i come back from my travels, i realize just how fortunate i am to call sf home.    i am blessed to have a huge network of truly amazing friends, from various social and work circles. recently, i feel most of these circles have collided, and it seems i can't go anywhere without bumping into someone i know.  i am looking to find fun, like-minded individuals outside these circles to experience new horizons.    if you can show me something super-fun, in or near sf i haven't seen or done before, i would be impressed. i would love for you to share something new and fun.    i try not to pick favorites with anything. i believe that when you do, you will always be comparing that experience--song, taste, whatever it may be--to something from your past. therefore, not living objectively and in the moment.  narrow a subject down to categories, and maybe i can make you a list of what i find most enjoyable, in no order, when asked.    i live for the human experience. we are here right now after all, no? to list some things i enjoy especially: restaurant/bar hopping, traveling, human connection, and spontaneity.  i also enjoy attending parties/events (i'm sometimes hyper-social and am actually paid to be such), dancing, live music performances, cooking, dogs, soaking in beautiful artistic expression, nature, any body of water, and spontaneous trips.  i love witty banter and good conversation.  i really enjoy my work and am passionate about my profession.    i work hard, play hard, work-out hard. wash, rinse, repeat.    i can be paradoxical (in a good way).    i am very easy going, yet know what i do and do not like.    i definitely have a dark side (evil laugh), but i'm genuinely kind and super positive.    i have a playful sense of humor. i'm brutally honest, yet sarcastic.    you can catch me eating at an amazing restaurant, then go hang out at a dive bar.  \"a foot in the gutter and a fist in the gold,\" as i sometimes say.    i am open-minded and non-judgmental. looking for similar qualities.    i have no 'type,' per se. 'hot' comes in many shapes, colors, ages, and sizes. attitude and self confidence are paramount.    i do not believe in non-platonic, healthy relationships without both parties being sexually satisfied.  mutual physical attraction and clear communication are musts.    interested in developing (a) healthy, positive relationship(s).  open to what is brought to the table and believe in considerateness about individual needs and boundaries.  basically, i'm not into forcing anything. i am not relationship/commitment-phobic, but will not deny positive, enriching experiences because of agendas or relationship goals.    as i travel for work regularly, i appreciate that my schedule is not ideal for those who are searching for someone to spend the vast majority of their time with. if you are not busy, professionally and/or personally, my calendar may prove to be problematic.  i have no \"set schedule\". sometimes i am free for days or weeks on-end. at times, i am zig-zagging across timezones with only brief stops home. sometimes i'm gone for 2 weeks at a time.  most of my travels are not booked last-minute. meaning yes, i can make plans, and stick to them.  i hope you have a rich personal/social life that demands your attention, in a good way. i do. let's share.    i live optimistically.  i believe in living with kindness and consideration with a clear conscience.  we can always learn from our experiences.  i would rather fall on my face continually, if always experiencing with honesty while living life conscientiously, than not experiencing at all.  with this caveat considered, i believe in living without regrets.    i am comfortable in any situation, be it social or professional settings. always mindful of the those around me and considerate of people's emotions. i try not to be assumptive, but regularly act upon my gut feelings. i have been told i have great intuition.  i just like to think i give a fuck.    i enjoy the good things in life. i am a sensualist.  when it comes to having fun, i'm not at all afraid to let my hair down (so to speak). at heart, i am a hedonist in the dionysian sense.    liars, manipulators, haters, homophobes, and thieves need not apply. \n",
      "\n",
      "you're looking for a high quality, genuine, down-to-earth, fun, solid, and sweet guy. if you're genuine, kind, honest, loving, affectionate/warm, a good communicator, mentally/emotionally stable &amp; available, financially responsible, adventurous, love to travel, love being active in the outdoors, are flexible and easy going about most things, care about the planet, appreciate food, have a good sense of humor, and are looking for a deep and lasting connection. let's save that for later! out with friends for dinner or lounging at home on my couch with a good book or watching a movie. --how to incorporate ecopsychology into my work in the world  --how to survive and thrive in the midst of the economic, social, and ecological crises we face  --how to stay connected to nature and healthy in mind, body, and spirit  --how to maximize contentment and joy for others and myself.  --how to best offer my gifts to others  --balance  --my next meal. (i love food!) 1) feeling a deep sense of interconnection with life and the earth  2) genuine friends and a loving family  3) moments of intentional stillness and silence  4) awareness, inner freedom, balance, and yoga  5) exercise and adventure under blue skies  6) independent travel i enjoy a wide variety of tunes: latin, afro-cuban, funk, jazz, folk, blues, bluegrass, reggae, classic rock, hip hop, etc. not too crazy about country music or gangster rap.    favorite food: thai, sushi, indian, italian, and turkish/middle eastern round out my top 5.    movies: il postino, mala educacion (i love all of pedro almodovar's films), last king of scotland, crash, lost in translation, a beautiful mind, motorcycle diaries, babel, where the green grasshoppers dream, hotel rwanda, pelle the conqueror, the lives of others, barton fink, sideways, asfalto, v for vendetta, mesrine: killer instinct, etc.    books... that might take a while. how about favorite authors/poets: gary snyder, wendell berry, joanna macy, david orr, cormac macarthy, basho, rumi, rilke, david whyte, rollo may, irving yalom, hermann hesse, sharon salzberg, joseph goldstein, and jack kornfield for starters. honestly, i'm not sure, but perhaps my hazel green eyes. listening to others and to myself, being kind and considerate, being supportive and nurturing to those i love, following my heart and gut instincts, eating slowly, the three r's, geography, map reading, traveling, photographing people and landscapes, appreciating good food, being on time, parallel parking, collecting books, making mulligatawny soup, making lists, keeping my commitments, being a brother/son/uncle/friend, taking risks, trespassing (occasionally, when it's simply irresistible) climbing practically anything (i was the kid in elementary school who shimmied up the 15 foot pole to get onto the roof to get the kickball down so we could continue playing), paying bills on time, being organized and paying attention to details, being playful, massage, embracing the unknown, pausing, appreciating natural beauty, staying grounded in the midst of challenges, staying healthy, devouring desserts (in moderation, of course!), and being honest about how i feel. evolving, learning, soaking it all in and appreciating it. helping people feel at ease in their body. loving. exploring and adventuring. cultivating relationships. savoring food. laughing as much as possible. spending quality time with friends and family. being outdoors, being still, being present as much as possible, exercising, curling up with a good book, enjoying it. always striving for a healthy balance. breathing. connecting with the natural world. being awestruck by and grateful for the beauty of natural places. --grew up in palo alto and have lived in berkeley for the past 11 years, running my own massage therapy practice since 2002. thai massage, shiatsu and deep tissue are my bread and butter.  --last september i completed my master's degree in counseling psychology. now i'm entering the internship phase of the mft licensing process.  --recently spent 6 weeks traveling in burma, 3 weeks exploring islands in southern thailand, and 2 weeks in london.  --other destinations in the past few years include: ecuador, panama, and cuba. se habla espanol.  --while i love to travel, and have spent multiple years journeying on the wide open road, i also love being rooted. i'm a \"rooted wanderer,\" a term i coined many years ago to explain myself to myself! :)  --love photography (especially taking portraits), engaging with people from other cultures, wilderness backpacking, climbing volcanoes, hiking in the redwoods regularly, biking, swimming, and yoga.  --i live for plunging under huge waterfalls and into snowfed, alpine lakes and rivers. brrrr!  --immersed myself in buddhist philosophy, psychology, and meditation while traveling in south east asia in my mid-20s. after my first silent 10-day meditation retreat in india, i knew my life would never be the same.  --i'm easy going, a good listener, patient, grounded, considerate, and reliable.  --i was fortunate to be close to my grandparents growing up and they continue to have a profound impact on me even though they passed away over 10 years ago. \n",
      "\n"
     ]
    }
   ],
   "source": [
    "print(\"Mis-predicted Men quotes\")\n",
    "print('--------------------------')\n",
    "for row in bad_men:\n",
    "    print(essay_sex[y == 1].all_essays.iloc[row])\n",
    "    print('')"
   ]
  },
  {
   "cell_type": "markdown",
   "metadata": {},
   "source": [
    "### Testing for new essay"
   ]
  },
  {
   "cell_type": "markdown",
   "metadata": {},
   "source": [
    "It is important that we test our model on new data. Here we try a bunch of sentences to predict gender."
   ]
  },
  {
   "cell_type": "markdown",
   "metadata": {},
   "source": [
    "First example is very simple. As expected, we get a good result."
   ]
  },
  {
   "cell_type": "code",
   "execution_count": 20,
   "metadata": {},
   "outputs": [
    {
     "name": "stdout",
     "output_type": "stream",
     "text": [
      "Text/Essay:  ['I am a programmer with a beard']\n",
      "\n",
      "This is 96.85 percent likely from a man's essay\n"
     ]
    }
   ],
   "source": [
    "text = ['I am a programmer with a beard']\n",
    "\n",
    "vectorizer = CountVectorizer(min_df=best_min_df,\n",
    "                             vocabulary=vectorizer.get_feature_names())\n",
    "x = vectorizer.fit_transform(text)\n",
    "prob = clf.predict_proba(vectorizer.transform(text))\n",
    "man_prob = prob[0, 1]\n",
    "woman_prob = prob[0, 0]\n",
    "man_prob = ('%.2f' % (100*man_prob))\n",
    "woman_prob = ('%.2f' % (100*woman_prob))\n",
    "# Prediction\n",
    "print(\"Text/Essay: \", text)\n",
    "print('')\n",
    "if clf.predict(x) == 1:\n",
    "    print(\"This is\", man_prob, \"percent likely from a man's essay\")\n",
    "else:\n",
    "    print(\"This is\", woman_prob, \"percent likely from a woman's essay\")"
   ]
  },
  {
   "cell_type": "markdown",
   "metadata": {},
   "source": [
    "Second example is similar to the first, we get a good result."
   ]
  },
  {
   "cell_type": "code",
   "execution_count": 21,
   "metadata": {},
   "outputs": [
    {
     "name": "stdout",
     "output_type": "stream",
     "text": [
      "Text/Essay:  ['I like lipgloss and lipstick']\n",
      "\n",
      "This is 95.43 percent likely from a woman's essay\n"
     ]
    }
   ],
   "source": [
    "text = ['I like lipgloss and lipstick']\n",
    "\n",
    "vectorizer = CountVectorizer(min_df=best_min_df,\n",
    "                             vocabulary=vectorizer.get_feature_names())\n",
    "x = vectorizer.fit_transform(text)\n",
    "prob = clf.predict_proba(vectorizer.transform(text))\n",
    "man_prob = prob[0, 1]\n",
    "woman_prob = prob[0, 0]\n",
    "man_prob = ('%.2f' % (100*man_prob))\n",
    "woman_prob = ('%.2f' % (100*woman_prob))\n",
    "# Prediction\n",
    "print(\"Text/Essay: \", text)\n",
    "print('')\n",
    "if clf.predict(x) == 1:\n",
    "    print(\"This is\", man_prob, \"percent likely from a man's essay\")\n",
    "else:\n",
    "    print(\"This is\", woman_prob, \"percent likely from a woman's essay\")"
   ]
  },
  {
   "cell_type": "markdown",
   "metadata": {},
   "source": [
    "Let's try doing clever manipulations on a simple sentence which would reverse its meaning. We start with this below."
   ]
  },
  {
   "cell_type": "code",
   "execution_count": 22,
   "metadata": {},
   "outputs": [
    {
     "name": "stdout",
     "output_type": "stream",
     "text": [
      "Text/Essay:  ['I like computers']\n",
      "\n",
      "This is 90.05 percent likely from a man's essay\n"
     ]
    }
   ],
   "source": [
    "text = ['I like computers']\n",
    "vectorizer = CountVectorizer(min_df=best_min_df,\n",
    "                             vocabulary=vectorizer.get_feature_names())\n",
    "x = vectorizer.fit_transform(text)\n",
    "prob = clf.predict_proba(vectorizer.transform(text))\n",
    "man_prob = prob[0, 1]\n",
    "woman_prob = prob[0, 0]\n",
    "man_prob = ('%.2f' % (100*man_prob))\n",
    "woman_prob = ('%.2f' % (100*woman_prob))\n",
    "# Prediction\n",
    "print(\"Text/Essay: \", text)\n",
    "print('')\n",
    "if clf.predict(x) == 1:\n",
    "    print(\"This is\", man_prob, \"percent likely from a man's essay\")\n",
    "else:\n",
    "    print(\"This is\", woman_prob, \"percent likely from a woman's essay\")"
   ]
  },
  {
   "cell_type": "markdown",
   "metadata": {},
   "source": [
    "Seeing the positive result above, we try to see if we can get the opposite by reversing the word \"like\" to \"hate\". Our model does not do so well, it still classifies the user as a male but with less confidence."
   ]
  },
  {
   "cell_type": "code",
   "execution_count": 23,
   "metadata": {},
   "outputs": [
    {
     "name": "stdout",
     "output_type": "stream",
     "text": [
      "Text/Essay:  ['I hate computers']\n",
      "\n",
      "This is 87.64 percent likely from a man's essay\n"
     ]
    }
   ],
   "source": [
    "text = ['I hate computers']\n",
    "vectorizer = CountVectorizer(min_df=best_min_df,\n",
    "                             vocabulary=vectorizer.get_feature_names())\n",
    "x = vectorizer.fit_transform(text)\n",
    "prob = clf.predict_proba(vectorizer.transform(text))\n",
    "man_prob = prob[0, 1]\n",
    "woman_prob = prob[0, 0]\n",
    "man_prob = ('%.2f' % (100*man_prob))\n",
    "woman_prob = ('%.2f' % (100*woman_prob))\n",
    "# Prediction\n",
    "print(\"Text/Essay: \", text)\n",
    "print('')\n",
    "if clf.predict(x) == 1:\n",
    "    print(\"This is\", man_prob, \"percent likely from a man's essay\")\n",
    "else:\n",
    "    print(\"This is\", woman_prob, \"percent likely from a woman's essay\")"
   ]
  },
  {
   "cell_type": "markdown",
   "metadata": {},
   "source": [
    "Here, we see if the word \"hate\" or \"like\" are  more from the male or female category."
   ]
  },
  {
   "cell_type": "code",
   "execution_count": 24,
   "metadata": {},
   "outputs": [
    {
     "name": "stdout",
     "output_type": "stream",
     "text": [
      "Text/Essay:  ['hate']\n",
      "\n",
      "This is 54.40 percent likely from a man's essay\n"
     ]
    }
   ],
   "source": [
    "text = ['hate']\n",
    "vectorizer = CountVectorizer(min_df=best_min_df,\n",
    "                             vocabulary=vectorizer.get_feature_names())\n",
    "x = vectorizer.fit_transform(text)\n",
    "prob = clf.predict_proba(vectorizer.transform(text))\n",
    "man_prob = prob[0, 1]\n",
    "woman_prob = prob[0, 0]\n",
    "man_prob = ('%.2f' % (100*man_prob))\n",
    "woman_prob = ('%.2f' % (100*woman_prob))\n",
    "# Prediction\n",
    "print(\"Text/Essay: \", text)\n",
    "print('')\n",
    "if clf.predict(x) == 1:\n",
    "    print(\"This is\", man_prob, \"percent likely from a man's essay\")\n",
    "else:\n",
    "    print(\"This is\", woman_prob, \"percent likely from a woman's essay\")"
   ]
  },
  {
   "cell_type": "code",
   "execution_count": 25,
   "metadata": {},
   "outputs": [
    {
     "name": "stdout",
     "output_type": "stream",
     "text": [
      "Text/Essay:  ['like']\n",
      "\n",
      "This is 60.35 percent likely from a man's essay\n"
     ]
    }
   ],
   "source": [
    "text = ['like']\n",
    "vectorizer = CountVectorizer(min_df=best_min_df,\n",
    "                             vocabulary=vectorizer.get_feature_names())\n",
    "x = vectorizer.fit_transform(text)\n",
    "prob = clf.predict_proba(vectorizer.transform(text))\n",
    "man_prob = prob[0, 1]\n",
    "woman_prob = prob[0, 0]\n",
    "man_prob = ('%.2f' % (100*man_prob))\n",
    "woman_prob = ('%.2f' % (100*woman_prob))\n",
    "# Prediction\n",
    "print(\"Text/Essay: \", text)\n",
    "print('')\n",
    "if clf.predict(x) == 1:\n",
    "    print(\"This is\", man_prob, \"percent likely from a man's essay\")\n",
    "else:\n",
    "    print(\"This is\", woman_prob, \"percent likely from a woman's essay\")"
   ]
  },
  {
   "cell_type": "markdown",
   "metadata": {
    "collapsed": true
   },
   "source": [
    "## Possible improvements"
   ]
  },
  {
   "cell_type": "markdown",
   "metadata": {
    "collapsed": true
   },
   "source": [
    "Seeing how our model differentiate \"like\" and \"hate\" properly, we can look deeping into the text analysis that we used.\n",
    "\n",
    "Something that we could look into are n-grams.\n",
    "\n",
    "In the fields of computational linguistics and probability, an n-gram is a contiguous sequence of n items from a given sequence of text or speech. The items can be phonemes, syllables, letters, words or base pairs according to the application. The n-grams typically are collected from a text or speech corpus. When the items are words, n-grams may also be called shingles.\n",
    "\n",
    "An n-gram of size 1 is referred to as a \"unigram\"; size 2 is a \"bigram\" (or, less commonly, a \"digram\"); size 3 is a \"trigram\". Larger sizes are sometimes referred to by the value of n in modern language, e.g., \"four-gram\", \"five-gram\", and so on.\n",
    "\n",
    "A simple example could be from our example previously used.\n",
    "For a unigram: \"I\" \"hate\" \"coumputers\". This would be influenced more by the term: computers which is generally associated with males.\n",
    "For a bi-gram: \"I hate\" \"hate computers\". This would be influenced more by the term: \"hate computers\" which is generally not associated with males."
   ]
  },
  {
   "cell_type": "markdown",
   "metadata": {
    "collapsed": true
   },
   "source": [
    "#### Testing with uni/bigrams"
   ]
  },
  {
   "cell_type": "markdown",
   "metadata": {},
   "source": [
    "Compared to our previous model of 73/71 percent for traning/test data, there is only a 1 percent improvement. This could be utilized in a next study, but not enough to affect our current results."
   ]
  },
  {
   "cell_type": "code",
   "execution_count": 26,
   "metadata": {},
   "outputs": [
    {
     "name": "stdout",
     "output_type": "stream",
     "text": [
      "Accuracy on training data: 0.873832\n",
      "Accuracy on test data:     0.748105\n"
     ]
    }
   ],
   "source": [
    "vectorizer = CountVectorizer(ngram_range=(1,2),min_df=best_min_df)\n",
    "X, y = make_xy(essay_sex, vectorizer)\n",
    "xtrain=X[mask]\n",
    "ytrain=y[mask]\n",
    "xtest=X[~mask]\n",
    "ytest=y[~mask]\n",
    "\n",
    "clf = MultinomialNB(alpha=best_alpha).fit(xtrain, ytrain)\n",
    "\n",
    "training_accuracy = clf.score(xtrain, ytrain)\n",
    "test_accuracy = clf.score(xtest, ytest)\n",
    "\n",
    "print(\"Accuracy on training data: {:2f}\".format(training_accuracy))\n",
    "print(\"Accuracy on test data:     {:2f}\".format(test_accuracy))"
   ]
  },
  {
   "cell_type": "markdown",
   "metadata": {},
   "source": [
    "#### Testing with only bigrams"
   ]
  },
  {
   "cell_type": "markdown",
   "metadata": {},
   "source": [
    "The results with bigrams are better than our previous model but overfitted. We should skip this."
   ]
  },
  {
   "cell_type": "code",
   "execution_count": 27,
   "metadata": {},
   "outputs": [
    {
     "name": "stdout",
     "output_type": "stream",
     "text": [
      "Accuracy on training data: 0.905805\n",
      "Accuracy on test data:     0.734665\n"
     ]
    }
   ],
   "source": [
    "vectorizer = CountVectorizer(ngram_range=(2,2),min_df=best_min_df)\n",
    "X, y = make_xy(essay_sex, vectorizer)\n",
    "xtrain=X[mask]\n",
    "ytrain=y[mask]\n",
    "xtest=X[~mask]\n",
    "ytest=y[~mask]\n",
    "\n",
    "clf = MultinomialNB(alpha=best_alpha).fit(xtrain, ytrain)\n",
    "\n",
    "training_accuracy = clf.score(xtrain, ytrain)\n",
    "test_accuracy = clf.score(xtest, ytest)\n",
    "\n",
    "print(\"Accuracy on training data: {:2f}\".format(training_accuracy))\n",
    "print(\"Accuracy on test data:     {:2f}\".format(test_accuracy))"
   ]
  },
  {
   "cell_type": "markdown",
   "metadata": {},
   "source": [
    "#### Testing with random forests"
   ]
  },
  {
   "cell_type": "markdown",
   "metadata": {},
   "source": [
    "Here, we get an amazing 98 percent accuracy on the training data but it is the most overfitted model we have seen. Skip this."
   ]
  },
  {
   "cell_type": "code",
   "execution_count": 28,
   "metadata": {},
   "outputs": [
    {
     "name": "stdout",
     "output_type": "stream",
     "text": [
      "Accuracy on training data: 0.979704\n",
      "Accuracy on test data:     0.659049\n"
     ]
    }
   ],
   "source": [
    "from sklearn.ensemble import RandomForestClassifier\n",
    "\n",
    "vectorizer = CountVectorizer(min_df=best_min_df)\n",
    "X, y = make_xy(essay_sex, vectorizer)\n",
    "xtrain=X[mask]\n",
    "ytrain=y[mask]\n",
    "xtest=X[~mask]\n",
    "ytest=y[~mask]\n",
    "\n",
    "rforest = RandomForestClassifier()\n",
    "clf = rforest.fit(xtrain,ytrain)\n",
    "\n",
    "training_accuracy = clf.score(xtrain, ytrain)\n",
    "test_accuracy = clf.score(xtest, ytest)\n",
    "\n",
    "print(\"Accuracy on training data: {:2f}\".format(training_accuracy))\n",
    "print(\"Accuracy on test data:     {:2f}\".format(test_accuracy))"
   ]
  },
  {
   "cell_type": "markdown",
   "metadata": {},
   "source": [
    "#### Testing with TfidfVectorizer"
   ]
  },
  {
   "cell_type": "markdown",
   "metadata": {},
   "source": [
    "TF-IDF Weighting for Term Importance\n",
    "TF-IDF stands for\n",
    "Term-Frequency X Inverse Document Frequency.\n",
    "In the standard CountVectorizer model above, we used just the term frequency in a document of words in our vocabulary. In TF-IDF, we weight this term frequency by the inverse of its popularity in all documents. For example, if the word \"movie\" showed up in all the documents, it would not have much predictive value. It could actually be considered a stopword. By weighing its counts by 1 divided by its overall frequency, we downweight it. We can then use this TF-IDF weighted features as inputs to any classifier. TF-IDF is essentially a measure of term importance, and of how discriminative a word is in a corpus. There are a variety of nuances involved in computing TF-IDF, mainly involving where to add the smoothing term to avoid division by 0, or log of 0 errors. The formula for TF-IDF in scikit-learn differs from that of most textbooks:\n",
    "$$\\mbox{TF-IDF}(t, d) = \\mbox{TF}(t, d)\\times \\mbox{IDF}(t) = n_{td} \\log{\\left( \\frac{\\vert D \\vert}{\\vert d : t \\in d \\vert} + 1 \\right)}$$\n",
    "where $n_{td}$ is the number of times term $t$ occurs in document $d$, $\\vert D \\vert$ is the number of documents, and $\\vert d : t \\in d \\vert$ is the number of documents that contain $t$"
   ]
  },
  {
   "cell_type": "markdown",
   "metadata": {},
   "source": [
    "Just by looking at the results, we can see that the training and test data are very similar in accuracy. However, the accuracy is too low to use in an analysis compared to over 70% accuracy."
   ]
  },
  {
   "cell_type": "code",
   "execution_count": 29,
   "metadata": {},
   "outputs": [
    {
     "name": "stdout",
     "output_type": "stream",
     "text": [
      "Accuracy on training data: 0.593861\n",
      "Accuracy on test data:     0.600234\n"
     ]
    }
   ],
   "source": [
    "from sklearn.feature_extraction.text import TfidfVectorizer\n",
    "\n",
    "vectorizer = TfidfVectorizer(min_df=best_min_df)\n",
    "X, y = make_xy(essay_sex, vectorizer)\n",
    "xtrain=X[mask]\n",
    "ytrain=y[mask]\n",
    "xtest=X[~mask]\n",
    "ytest=y[~mask]\n",
    "\n",
    "clf = MultinomialNB(alpha=best_alpha).fit(xtrain, ytrain)\n",
    "\n",
    "training_accuracy = clf.score(xtrain, ytrain)\n",
    "test_accuracy = clf.score(xtest, ytest)\n",
    "\n",
    "print(\"Accuracy on training data: {:2f}\".format(training_accuracy))\n",
    "print(\"Accuracy on test data:     {:2f}\".format(test_accuracy))"
   ]
  },
  {
   "cell_type": "markdown",
   "metadata": {},
   "source": [
    "Using n-grams with TF-IDF weighting performs even worse. Skip."
   ]
  },
  {
   "cell_type": "code",
   "execution_count": 30,
   "metadata": {},
   "outputs": [
    {
     "name": "stdout",
     "output_type": "stream",
     "text": [
      "Accuracy on training data: 0.593416\n",
      "Accuracy on test data:     0.599662\n"
     ]
    }
   ],
   "source": [
    "from sklearn.feature_extraction.text import TfidfVectorizer\n",
    "\n",
    "vectorizer = TfidfVectorizer(ngram_range=(1,2), min_df=best_min_df)\n",
    "X, y = make_xy(essay_sex, vectorizer)\n",
    "xtrain=X[mask]\n",
    "ytrain=y[mask]\n",
    "xtest=X[~mask]\n",
    "ytest=y[~mask]\n",
    "\n",
    "clf = MultinomialNB(alpha=best_alpha).fit(xtrain, ytrain)\n",
    "\n",
    "training_accuracy = clf.score(xtrain, ytrain)\n",
    "test_accuracy = clf.score(xtest, ytest)\n",
    "\n",
    "print(\"Accuracy on training data: {:2f}\".format(training_accuracy))\n",
    "print(\"Accuracy on test data:     {:2f}\".format(test_accuracy))"
   ]
  }
 ],
 "metadata": {
  "kernelspec": {
   "display_name": "Python 3",
   "language": "python",
   "name": "python3"
  },
  "language_info": {
   "codemirror_mode": {
    "name": "ipython",
    "version": 3
   },
   "file_extension": ".py",
   "mimetype": "text/x-python",
   "name": "python",
   "nbconvert_exporter": "python",
   "pygments_lexer": "ipython3",
   "version": "3.6.1"
  }
 },
 "nbformat": 4,
 "nbformat_minor": 2
}
